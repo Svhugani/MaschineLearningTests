{
  "nbformat": 4,
  "nbformat_minor": 0,
  "metadata": {
    "colab": {
      "name": "BreastCancerAnalysis.ipynb",
      "provenance": [],
      "collapsed_sections": [],
      "authorship_tag": "ABX9TyPPck1HkW1TO8LT5G2MB8M1",
      "include_colab_link": true
    },
    "kernelspec": {
      "name": "python3",
      "display_name": "Python 3"
    }
  },
  "cells": [
    {
      "cell_type": "markdown",
      "metadata": {
        "id": "view-in-github",
        "colab_type": "text"
      },
      "source": [
        "<a href=\"https://colab.research.google.com/github/Svhugani/MaschineLearningTests/blob/main/BreastCancerAnalysis.ipynb\" target=\"_parent\"><img src=\"https://colab.research.google.com/assets/colab-badge.svg\" alt=\"Open In Colab\"/></a>"
      ]
    },
    {
      "cell_type": "code",
      "metadata": {
        "id": "wqp2CCirDtbs"
      },
      "source": [
        "import tensorflow as tf\r\n",
        "import numpy as np\r\n",
        "from sklearn.datasets import load_breast_cancer\r\n",
        "from sklearn.model_selection import train_test_split\r\n",
        "from sklearn.preprocessing import StandardScaler, RobustScaler\r\n",
        "from sklearn.cluster import KMeans\r\n",
        "from matplotlib import pyplot as plt\r\n",
        "plt.style.use('dark_background')"
      ],
      "execution_count": 1,
      "outputs": []
    },
    {
      "cell_type": "code",
      "metadata": {
        "id": "EQ7GmQWnFh59"
      },
      "source": [
        "breast_cancer = load_breast_cancer()"
      ],
      "execution_count": 2,
      "outputs": []
    },
    {
      "cell_type": "code",
      "metadata": {
        "colab": {
          "base_uri": "https://localhost:8080/"
        },
        "id": "ow_GxFCWF8Md",
        "outputId": "660df683-74de-4198-f363-8210ac7fa3a4"
      },
      "source": [
        "breast_cancer.keys()"
      ],
      "execution_count": 3,
      "outputs": [
        {
          "output_type": "execute_result",
          "data": {
            "text/plain": [
              "dict_keys(['data', 'target', 'target_names', 'DESCR', 'feature_names', 'filename'])"
            ]
          },
          "metadata": {
            "tags": []
          },
          "execution_count": 3
        }
      ]
    },
    {
      "cell_type": "code",
      "metadata": {
        "colab": {
          "base_uri": "https://localhost:8080/"
        },
        "id": "aVg2T6NwGHx1",
        "outputId": "79ce20ce-9fc2-44f2-a729-6d5325de6ba0"
      },
      "source": [
        "breast_cancer.data.shape"
      ],
      "execution_count": 4,
      "outputs": [
        {
          "output_type": "execute_result",
          "data": {
            "text/plain": [
              "(569, 30)"
            ]
          },
          "metadata": {
            "tags": []
          },
          "execution_count": 4
        }
      ]
    },
    {
      "cell_type": "code",
      "metadata": {
        "colab": {
          "base_uri": "https://localhost:8080/"
        },
        "id": "oHu6r7o8Sg2H",
        "outputId": "1c8e681d-b460-4cfd-98e5-b61806b0cd7a"
      },
      "source": [
        "breast_cancer.target_names"
      ],
      "execution_count": 5,
      "outputs": [
        {
          "output_type": "execute_result",
          "data": {
            "text/plain": [
              "array(['malignant', 'benign'], dtype='<U9')"
            ]
          },
          "metadata": {
            "tags": []
          },
          "execution_count": 5
        }
      ]
    },
    {
      "cell_type": "code",
      "metadata": {
        "colab": {
          "base_uri": "https://localhost:8080/",
          "height": 91
        },
        "id": "_X0SEzA7GMQN",
        "outputId": "c926d98e-e11f-4742-8e24-5619b39c6cee"
      },
      "source": [
        "breast_cancer.DESCR"
      ],
      "execution_count": 6,
      "outputs": [
        {
          "output_type": "execute_result",
          "data": {
            "application/vnd.google.colaboratory.intrinsic+json": {
              "type": "string"
            },
            "text/plain": [
              "'.. _breast_cancer_dataset:\\n\\nBreast cancer wisconsin (diagnostic) dataset\\n--------------------------------------------\\n\\n**Data Set Characteristics:**\\n\\n    :Number of Instances: 569\\n\\n    :Number of Attributes: 30 numeric, predictive attributes and the class\\n\\n    :Attribute Information:\\n        - radius (mean of distances from center to points on the perimeter)\\n        - texture (standard deviation of gray-scale values)\\n        - perimeter\\n        - area\\n        - smoothness (local variation in radius lengths)\\n        - compactness (perimeter^2 / area - 1.0)\\n        - concavity (severity of concave portions of the contour)\\n        - concave points (number of concave portions of the contour)\\n        - symmetry \\n        - fractal dimension (\"coastline approximation\" - 1)\\n\\n        The mean, standard error, and \"worst\" or largest (mean of the three\\n        largest values) of these features were computed for each image,\\n        resulting in 30 features.  For instance, field 3 is Mean Radius, field\\n        13 is Radius SE, field 23 is Worst Radius.\\n\\n        - class:\\n                - WDBC-Malignant\\n                - WDBC-Benign\\n\\n    :Summary Statistics:\\n\\n    ===================================== ====== ======\\n                                           Min    Max\\n    ===================================== ====== ======\\n    radius (mean):                        6.981  28.11\\n    texture (mean):                       9.71   39.28\\n    perimeter (mean):                     43.79  188.5\\n    area (mean):                          143.5  2501.0\\n    smoothness (mean):                    0.053  0.163\\n    compactness (mean):                   0.019  0.345\\n    concavity (mean):                     0.0    0.427\\n    concave points (mean):                0.0    0.201\\n    symmetry (mean):                      0.106  0.304\\n    fractal dimension (mean):             0.05   0.097\\n    radius (standard error):              0.112  2.873\\n    texture (standard error):             0.36   4.885\\n    perimeter (standard error):           0.757  21.98\\n    area (standard error):                6.802  542.2\\n    smoothness (standard error):          0.002  0.031\\n    compactness (standard error):         0.002  0.135\\n    concavity (standard error):           0.0    0.396\\n    concave points (standard error):      0.0    0.053\\n    symmetry (standard error):            0.008  0.079\\n    fractal dimension (standard error):   0.001  0.03\\n    radius (worst):                       7.93   36.04\\n    texture (worst):                      12.02  49.54\\n    perimeter (worst):                    50.41  251.2\\n    area (worst):                         185.2  4254.0\\n    smoothness (worst):                   0.071  0.223\\n    compactness (worst):                  0.027  1.058\\n    concavity (worst):                    0.0    1.252\\n    concave points (worst):               0.0    0.291\\n    symmetry (worst):                     0.156  0.664\\n    fractal dimension (worst):            0.055  0.208\\n    ===================================== ====== ======\\n\\n    :Missing Attribute Values: None\\n\\n    :Class Distribution: 212 - Malignant, 357 - Benign\\n\\n    :Creator:  Dr. William H. Wolberg, W. Nick Street, Olvi L. Mangasarian\\n\\n    :Donor: Nick Street\\n\\n    :Date: November, 1995\\n\\nThis is a copy of UCI ML Breast Cancer Wisconsin (Diagnostic) datasets.\\nhttps://goo.gl/U2Uwz2\\n\\nFeatures are computed from a digitized image of a fine needle\\naspirate (FNA) of a breast mass.  They describe\\ncharacteristics of the cell nuclei present in the image.\\n\\nSeparating plane described above was obtained using\\nMultisurface Method-Tree (MSM-T) [K. P. Bennett, \"Decision Tree\\nConstruction Via Linear Programming.\" Proceedings of the 4th\\nMidwest Artificial Intelligence and Cognitive Science Society,\\npp. 97-101, 1992], a classification method which uses linear\\nprogramming to construct a decision tree.  Relevant features\\nwere selected using an exhaustive search in the space of 1-4\\nfeatures and 1-3 separating planes.\\n\\nThe actual linear program used to obtain the separating plane\\nin the 3-dimensional space is that described in:\\n[K. P. Bennett and O. L. Mangasarian: \"Robust Linear\\nProgramming Discrimination of Two Linearly Inseparable Sets\",\\nOptimization Methods and Software 1, 1992, 23-34].\\n\\nThis database is also available through the UW CS ftp server:\\n\\nftp ftp.cs.wisc.edu\\ncd math-prog/cpo-dataset/machine-learn/WDBC/\\n\\n.. topic:: References\\n\\n   - W.N. Street, W.H. Wolberg and O.L. Mangasarian. Nuclear feature extraction \\n     for breast tumor diagnosis. IS&T/SPIE 1993 International Symposium on \\n     Electronic Imaging: Science and Technology, volume 1905, pages 861-870,\\n     San Jose, CA, 1993.\\n   - O.L. Mangasarian, W.N. Street and W.H. Wolberg. Breast cancer diagnosis and \\n     prognosis via linear programming. Operations Research, 43(4), pages 570-577, \\n     July-August 1995.\\n   - W.H. Wolberg, W.N. Street, and O.L. Mangasarian. Machine learning techniques\\n     to diagnose breast cancer from fine-needle aspirates. Cancer Letters 77 (1994) \\n     163-171.'"
            ]
          },
          "metadata": {
            "tags": []
          },
          "execution_count": 6
        }
      ]
    },
    {
      "cell_type": "code",
      "metadata": {
        "id": "y61uBmD7Iqac"
      },
      "source": [
        "data = breast_cancer.data\r\n",
        "target = breast_cancer.target\r\n",
        "x_train, x_test, y_train, y_test = train_test_split(data, target, test_size = 0.2)"
      ],
      "execution_count": 7,
      "outputs": []
    },
    {
      "cell_type": "code",
      "metadata": {
        "colab": {
          "base_uri": "https://localhost:8080/",
          "height": 320
        },
        "id": "L1dup5jIGuXt",
        "outputId": "cdbcdb35-cb08-4148-fbee-0ec09ddbb490"
      },
      "source": [
        "# data before preprocessing\r\n",
        "\r\n",
        "data_features_means = [x_train[:, i].mean() for i in range(x_train.shape[1])]\r\n",
        "data_features_std = [x_train[:, i].std() for i in range(x_train.shape[1])]\r\n",
        "\r\n",
        "plt.subplots(figsize = (10,5))\r\n",
        "plt.plot(data_features_means, label = 'means')\r\n",
        "plt.plot(data_features_std, label = 'standard derivs')\r\n",
        "plt.legend()\r\n",
        "plt.grid()"
      ],
      "execution_count": 8,
      "outputs": [
        {
          "output_type": "display_data",
          "data": {
            "image/png": "[encoded data removed]",
            "text/plain": [
              "<Figure size 720x360 with 1 Axes>"
            ]
          },
          "metadata": {
            "tags": [],
            "needs_background": "dark"
          }
        }
      ]
    },
    {
      "cell_type": "code",
      "metadata": {
        "colab": {
          "base_uri": "https://localhost:8080/",
          "height": 320
        },
        "id": "koBgR4t5IDDF",
        "outputId": "6782508f-7cac-47ca-9dbf-63dfbf1ead6b"
      },
      "source": [
        "# data after processing\r\n",
        "\r\n",
        "#scaler = RobustScaler(quantile_range=(25, 75))\r\n",
        "scaler = StandardScaler()\r\n",
        "x_train = scaler.fit_transform(x_train)\r\n",
        "x_test = scaler.fit_transform(x_test)\r\n",
        "\r\n",
        "data_features_means = [x_train[:, i].mean() for i in range(x_train.shape[1])]\r\n",
        "data_features_std = [x_train[:, i].std() for i in range(x_train.shape[1])]\r\n",
        "\r\n",
        "plt.subplots(figsize = (10,5))\r\n",
        "plt.plot(data_features_means, label = 'means')\r\n",
        "plt.plot(data_features_std, label = 'standard derivs')\r\n",
        "plt.legend()\r\n",
        "plt.grid()"
      ],
      "execution_count": 9,
      "outputs": [
        {
          "output_type": "display_data",
          "data": {
            "image/png": "[encoded data removed]",
            "text/plain": [
              "<Figure size 720x360 with 1 Axes>"
            ]
          },
          "metadata": {
            "tags": [],
            "needs_background": "dark"
          }
        }
      ]
    },
    {
      "cell_type": "code",
      "metadata": {
        "colab": {
          "base_uri": "https://localhost:8080/",
          "height": 320
        },
        "id": "wrYI_VntN2hz",
        "outputId": "d96f9c44-c334-43e7-8bf3-971726651816"
      },
      "source": [
        "# K-means clustering form many possible scenarios\r\n",
        "cluster_numbers = range(1, 16)\r\n",
        "k_means_classificators = [KMeans(n_clusters = i, max_iter = 100).fit(x_test) for i in cluster_numbers]\r\n",
        "k_means_scores = [k_means_classificators[i].score(x_test) for i in range(len(k_means_classificators))]\r\n",
        "\r\n",
        "plt.subplots(figsize = (10,5))\r\n",
        "plt.plot(k_means_scores, label = 'k means score')\r\n",
        "plt.xticks(cluster_numbers)\r\n",
        "plt.legend()\r\n",
        "plt.grid()"
      ],
      "execution_count": 10,
      "outputs": [
        {
          "output_type": "display_data",
          "data": {
            "image/png": "[encoded data removed]",
            "text/plain": [
              "<Figure size 720x360 with 1 Axes>"
            ]
          },
          "metadata": {
            "tags": [],
            "needs_background": "dark"
          }
        }
      ]
    },
    {
      "cell_type": "code",
      "metadata": {
        "colab": {
          "base_uri": "https://localhost:8080/"
        },
        "id": "S5L_e6K_SN4g",
        "outputId": "ac86ae1d-eed2-498e-c790-776dfaf9c8a4"
      },
      "source": [
        "# 2-clusterring ('malignant', 'benign')\r\n",
        "\r\n",
        "k_means_binary = k_means_classificators[1]\r\n",
        "k_means_binary.inertia_\r\n",
        "k_means_binary.score(x_test)"
      ],
      "execution_count": 20,
      "outputs": [
        {
          "output_type": "execute_result",
          "data": {
            "text/plain": [
              "-2223.637977395204"
            ]
          },
          "metadata": {
            "tags": []
          },
          "execution_count": 20
        }
      ]
    },
    {
      "cell_type": "code",
      "metadata": {
        "colab": {
          "base_uri": "https://localhost:8080/"
        },
        "id": "02oJvxUYVbJV",
        "outputId": "9d6ff63a-f44c-4bae-bd56-9235c9b0b025"
      },
      "source": [
        "k_means_prediction = k_means_binary.predict(x_test)\r\n",
        "k_means_prediction"
      ],
      "execution_count": 21,
      "outputs": [
        {
          "output_type": "execute_result",
          "data": {
            "text/plain": [
              "array([0, 1, 0, 0, 1, 1, 1, 0, 0, 0, 1, 0, 1, 0, 1, 0, 0, 1, 0, 0, 0, 0,\n",
              "       0, 0, 1, 1, 1, 0, 0, 1, 0, 0, 1, 1, 0, 0, 1, 0, 0, 0, 1, 0, 0, 1,\n",
              "       0, 1, 0, 0, 1, 0, 0, 1, 0, 1, 1, 0, 0, 0, 0, 0, 0, 0, 0, 0, 1, 0,\n",
              "       0, 1, 1, 1, 0, 0, 0, 0, 0, 1, 0, 0, 0, 1, 1, 1, 0, 0, 0, 0, 1, 0,\n",
              "       0, 0, 0, 0, 0, 0, 0, 0, 0, 1, 0, 0, 0, 1, 0, 0, 0, 0, 0, 0, 0, 1,\n",
              "       0, 0, 0, 0], dtype=int32)"
            ]
          },
          "metadata": {
            "tags": []
          },
          "execution_count": 21
        }
      ]
    },
    {
      "cell_type": "code",
      "metadata": {
        "colab": {
          "base_uri": "https://localhost:8080/"
        },
        "id": "l8Z4Zylbi5_v",
        "outputId": "830d3651-a8eb-4015-fe6f-71d049d85be0"
      },
      "source": [
        "k_means_fitting = k_means_binary.predict(x_train)\r\n",
        "misclassified_idx = np.where(k_means_fitting == y_train)[0]\r\n",
        "k_means_accuracy = len(misclassified_idx)/ float(len(y_train))\r\n",
        "print(\"k-means validation accuracy for k=2 equals: \" + str(np.round(k_means_accuracy * 100, 2)) + \"%\")"
      ],
      "execution_count": 22,
      "outputs": [
        {
          "output_type": "stream",
          "text": [
            "k-means validation accuracy for k=2 equals: 9.23%\n"
          ],
          "name": "stdout"
        }
      ]
    },
    {
      "cell_type": "markdown",
      "metadata": {
        "id": "nJHi23EUWRVP"
      },
      "source": [
        ""
      ]
    },
    {
      "cell_type": "code",
      "metadata": {
        "colab": {
          "base_uri": "https://localhost:8080/"
        },
        "id": "3wxaRwo1V_Md",
        "outputId": "3db07c53-db10-4743-c10b-e4b0d9b59b83"
      },
      "source": [
        "# K- means clustering for k = 2 ( only that makes sense since we want binary classification)\r\n",
        "misclassified_idx = np.where(k_means_prediction == y_test)[0]\r\n",
        "k_means_accuracy = len(misclassified_idx)/ float(len(y_test))\r\n",
        "print(\"k-means validation accuracy for k=2 equals: \" + str(np.round(k_means_accuracy * 100, 2)) + \"%\")"
      ],
      "execution_count": 23,
      "outputs": [
        {
          "output_type": "stream",
          "text": [
            "k-means validation accuracy for k=2 equals: 11.4%\n"
          ],
          "name": "stdout"
        }
      ]
    },
    {
      "cell_type": "markdown",
      "metadata": {
        "id": "0S5r1wf9f4ZT"
      },
      "source": [
        "\r\n",
        "\r\n",
        "---\r\n",
        "\r\n",
        "\r\n",
        "K-means method for 2-categories clustering succeded with 86.84%. \r\n",
        "Clustering method suggests around 5 significant categories. It could be the for example for the stage of the cancer (?). What is interesting, for RobustScaler which scales a bit differently the resuts, we get completely different and low accuracy around 19%, with the same method. \r\n",
        "\r\n",
        "\r\n",
        "---\r\n",
        "\r\n"
      ]
    },
    {
      "cell_type": "code",
      "metadata": {
        "colab": {
          "base_uri": "https://localhost:8080/"
        },
        "id": "XC6sOOcihBg4",
        "outputId": "df3f9db6-705a-4c71-bb27-ea7009c8a41e"
      },
      "source": [
        "# linear regression classification\r\n",
        "N, D = x_train.shape\r\n",
        "model = tf.keras.models.Sequential()\r\n",
        "model.add(tf.keras.layers.Dense(1,input_shape = (D, ), activation = 'sigmoid'))\r\n",
        "model.compile(optimizer = 'adam', loss = 'binary_crossentropy', metrics = ['accuracy'])\r\n",
        "result = model.fit(x_train, y_train, validation_data = (x_test, y_test), epochs = 100)\r\n"
      ],
      "execution_count": 15,
      "outputs": [
        {
          "output_type": "stream",
          "text": [
            "Epoch 1/100\n",
            "15/15 [==============================] - 1s 37ms/step - loss: 1.0616 - accuracy: 0.2654 - val_loss: 1.0096 - val_accuracy: 0.2895\n",
            "Epoch 2/100\n",
            "15/15 [==============================] - 0s 4ms/step - loss: 0.9379 - accuracy: 0.3509 - val_loss: 0.8830 - val_accuracy: 0.3596\n",
            "Epoch 3/100\n",
            "15/15 [==============================] - 0s 4ms/step - loss: 0.8174 - accuracy: 0.4568 - val_loss: 0.7727 - val_accuracy: 0.4737\n",
            "Epoch 4/100\n",
            "15/15 [==============================] - 0s 4ms/step - loss: 0.7335 - accuracy: 0.5435 - val_loss: 0.6832 - val_accuracy: 0.5702\n",
            "Epoch 5/100\n",
            "15/15 [==============================] - 0s 5ms/step - loss: 0.6631 - accuracy: 0.6170 - val_loss: 0.6065 - val_accuracy: 0.7105\n",
            "Epoch 6/100\n",
            "15/15 [==============================] - 0s 5ms/step - loss: 0.5807 - accuracy: 0.7217 - val_loss: 0.5428 - val_accuracy: 0.7632\n",
            "Epoch 7/100\n",
            "15/15 [==============================] - 0s 4ms/step - loss: 0.5180 - accuracy: 0.7742 - val_loss: 0.4910 - val_accuracy: 0.8246\n",
            "Epoch 8/100\n",
            "15/15 [==============================] - 0s 4ms/step - loss: 0.4851 - accuracy: 0.7854 - val_loss: 0.4495 - val_accuracy: 0.8684\n",
            "Epoch 9/100\n",
            "15/15 [==============================] - 0s 14ms/step - loss: 0.4717 - accuracy: 0.8215 - val_loss: 0.4152 - val_accuracy: 0.8860\n",
            "Epoch 10/100\n",
            "15/15 [==============================] - 0s 4ms/step - loss: 0.4115 - accuracy: 0.8550 - val_loss: 0.3858 - val_accuracy: 0.9123\n",
            "Epoch 11/100\n",
            "15/15 [==============================] - 0s 4ms/step - loss: 0.3821 - accuracy: 0.9061 - val_loss: 0.3608 - val_accuracy: 0.9211\n",
            "Epoch 12/100\n",
            "15/15 [==============================] - 0s 4ms/step - loss: 0.3561 - accuracy: 0.8979 - val_loss: 0.3400 - val_accuracy: 0.9474\n",
            "Epoch 13/100\n",
            "15/15 [==============================] - 0s 4ms/step - loss: 0.3557 - accuracy: 0.9057 - val_loss: 0.3211 - val_accuracy: 0.9474\n",
            "Epoch 14/100\n",
            "15/15 [==============================] - 0s 4ms/step - loss: 0.3329 - accuracy: 0.9286 - val_loss: 0.3048 - val_accuracy: 0.9474\n",
            "Epoch 15/100\n",
            "15/15 [==============================] - 0s 4ms/step - loss: 0.3180 - accuracy: 0.9395 - val_loss: 0.2904 - val_accuracy: 0.9561\n",
            "Epoch 16/100\n",
            "15/15 [==============================] - 0s 4ms/step - loss: 0.2933 - accuracy: 0.9387 - val_loss: 0.2776 - val_accuracy: 0.9561\n",
            "Epoch 17/100\n",
            "15/15 [==============================] - 0s 4ms/step - loss: 0.2826 - accuracy: 0.9380 - val_loss: 0.2660 - val_accuracy: 0.9561\n",
            "Epoch 18/100\n",
            "15/15 [==============================] - 0s 4ms/step - loss: 0.3029 - accuracy: 0.9320 - val_loss: 0.2556 - val_accuracy: 0.9561\n",
            "Epoch 19/100\n",
            "15/15 [==============================] - 0s 5ms/step - loss: 0.2548 - accuracy: 0.9582 - val_loss: 0.2458 - val_accuracy: 0.9561\n",
            "Epoch 20/100\n",
            "15/15 [==============================] - 0s 5ms/step - loss: 0.2526 - accuracy: 0.9496 - val_loss: 0.2372 - val_accuracy: 0.9561\n",
            "Epoch 21/100\n",
            "15/15 [==============================] - 0s 4ms/step - loss: 0.2599 - accuracy: 0.9517 - val_loss: 0.2288 - val_accuracy: 0.9561\n",
            "Epoch 22/100\n",
            "15/15 [==============================] - 0s 4ms/step - loss: 0.2584 - accuracy: 0.9441 - val_loss: 0.2215 - val_accuracy: 0.9561\n",
            "Epoch 23/100\n",
            "15/15 [==============================] - 0s 4ms/step - loss: 0.2372 - accuracy: 0.9587 - val_loss: 0.2145 - val_accuracy: 0.9561\n",
            "Epoch 24/100\n",
            "15/15 [==============================] - 0s 4ms/step - loss: 0.2389 - accuracy: 0.9470 - val_loss: 0.2080 - val_accuracy: 0.9649\n",
            "Epoch 25/100\n",
            "15/15 [==============================] - 0s 4ms/step - loss: 0.2278 - accuracy: 0.9589 - val_loss: 0.2020 - val_accuracy: 0.9737\n",
            "Epoch 26/100\n",
            "15/15 [==============================] - 0s 4ms/step - loss: 0.2447 - accuracy: 0.9493 - val_loss: 0.1959 - val_accuracy: 0.9737\n",
            "Epoch 27/100\n",
            "15/15 [==============================] - 0s 4ms/step - loss: 0.2178 - accuracy: 0.9490 - val_loss: 0.1909 - val_accuracy: 0.9737\n",
            "Epoch 28/100\n",
            "15/15 [==============================] - 0s 4ms/step - loss: 0.2110 - accuracy: 0.9552 - val_loss: 0.1857 - val_accuracy: 0.9737\n",
            "Epoch 29/100\n",
            "15/15 [==============================] - 0s 4ms/step - loss: 0.2113 - accuracy: 0.9480 - val_loss: 0.1805 - val_accuracy: 0.9737\n",
            "Epoch 30/100\n",
            "15/15 [==============================] - 0s 4ms/step - loss: 0.2017 - accuracy: 0.9586 - val_loss: 0.1762 - val_accuracy: 0.9737\n",
            "Epoch 31/100\n",
            "15/15 [==============================] - 0s 4ms/step - loss: 0.1920 - accuracy: 0.9651 - val_loss: 0.1716 - val_accuracy: 0.9737\n",
            "Epoch 32/100\n",
            "15/15 [==============================] - 0s 4ms/step - loss: 0.1905 - accuracy: 0.9653 - val_loss: 0.1675 - val_accuracy: 0.9737\n",
            "Epoch 33/100\n",
            "15/15 [==============================] - 0s 4ms/step - loss: 0.2051 - accuracy: 0.9500 - val_loss: 0.1637 - val_accuracy: 0.9825\n",
            "Epoch 34/100\n",
            "15/15 [==============================] - 0s 4ms/step - loss: 0.1800 - accuracy: 0.9683 - val_loss: 0.1599 - val_accuracy: 0.9825\n",
            "Epoch 35/100\n",
            "15/15 [==============================] - 0s 4ms/step - loss: 0.1737 - accuracy: 0.9647 - val_loss: 0.1566 - val_accuracy: 0.9825\n",
            "Epoch 36/100\n",
            "15/15 [==============================] - 0s 4ms/step - loss: 0.1652 - accuracy: 0.9700 - val_loss: 0.1531 - val_accuracy: 0.9825\n",
            "Epoch 37/100\n",
            "15/15 [==============================] - 0s 4ms/step - loss: 0.2019 - accuracy: 0.9663 - val_loss: 0.1490 - val_accuracy: 0.9825\n",
            "Epoch 38/100\n",
            "15/15 [==============================] - 0s 4ms/step - loss: 0.1540 - accuracy: 0.9789 - val_loss: 0.1460 - val_accuracy: 0.9825\n",
            "Epoch 39/100\n",
            "15/15 [==============================] - 0s 4ms/step - loss: 0.1902 - accuracy: 0.9622 - val_loss: 0.1428 - val_accuracy: 0.9825\n",
            "Epoch 40/100\n",
            "15/15 [==============================] - 0s 4ms/step - loss: 0.1525 - accuracy: 0.9809 - val_loss: 0.1399 - val_accuracy: 0.9825\n",
            "Epoch 41/100\n",
            "15/15 [==============================] - 0s 4ms/step - loss: 0.1921 - accuracy: 0.9649 - val_loss: 0.1372 - val_accuracy: 0.9825\n",
            "Epoch 42/100\n",
            "15/15 [==============================] - 0s 4ms/step - loss: 0.1652 - accuracy: 0.9662 - val_loss: 0.1345 - val_accuracy: 0.9825\n",
            "Epoch 43/100\n",
            "15/15 [==============================] - 0s 4ms/step - loss: 0.1726 - accuracy: 0.9642 - val_loss: 0.1320 - val_accuracy: 0.9825\n",
            "Epoch 44/100\n",
            "15/15 [==============================] - 0s 4ms/step - loss: 0.1629 - accuracy: 0.9731 - val_loss: 0.1298 - val_accuracy: 0.9825\n",
            "Epoch 45/100\n",
            "15/15 [==============================] - 0s 4ms/step - loss: 0.1554 - accuracy: 0.9768 - val_loss: 0.1275 - val_accuracy: 0.9825\n",
            "Epoch 46/100\n",
            "15/15 [==============================] - 0s 4ms/step - loss: 0.1751 - accuracy: 0.9569 - val_loss: 0.1254 - val_accuracy: 0.9825\n",
            "Epoch 47/100\n",
            "15/15 [==============================] - 0s 4ms/step - loss: 0.1566 - accuracy: 0.9655 - val_loss: 0.1232 - val_accuracy: 0.9825\n",
            "Epoch 48/100\n",
            "15/15 [==============================] - 0s 4ms/step - loss: 0.1552 - accuracy: 0.9610 - val_loss: 0.1212 - val_accuracy: 0.9825\n",
            "Epoch 49/100\n",
            "15/15 [==============================] - 0s 4ms/step - loss: 0.1389 - accuracy: 0.9717 - val_loss: 0.1191 - val_accuracy: 0.9825\n",
            "Epoch 50/100\n",
            "15/15 [==============================] - 0s 4ms/step - loss: 0.1641 - accuracy: 0.9672 - val_loss: 0.1172 - val_accuracy: 0.9825\n",
            "Epoch 51/100\n",
            "15/15 [==============================] - 0s 5ms/step - loss: 0.1543 - accuracy: 0.9746 - val_loss: 0.1154 - val_accuracy: 0.9912\n",
            "Epoch 52/100\n",
            "15/15 [==============================] - 0s 4ms/step - loss: 0.1384 - accuracy: 0.9812 - val_loss: 0.1138 - val_accuracy: 0.9912\n",
            "Epoch 53/100\n",
            "15/15 [==============================] - 0s 5ms/step - loss: 0.1559 - accuracy: 0.9723 - val_loss: 0.1120 - val_accuracy: 0.9912\n",
            "Epoch 54/100\n",
            "15/15 [==============================] - 0s 6ms/step - loss: 0.1256 - accuracy: 0.9786 - val_loss: 0.1104 - val_accuracy: 0.9912\n",
            "Epoch 55/100\n",
            "15/15 [==============================] - 0s 4ms/step - loss: 0.1469 - accuracy: 0.9784 - val_loss: 0.1090 - val_accuracy: 0.9912\n",
            "Epoch 56/100\n",
            "15/15 [==============================] - 0s 4ms/step - loss: 0.1217 - accuracy: 0.9805 - val_loss: 0.1076 - val_accuracy: 0.9912\n",
            "Epoch 57/100\n",
            "15/15 [==============================] - 0s 4ms/step - loss: 0.1365 - accuracy: 0.9776 - val_loss: 0.1061 - val_accuracy: 0.9912\n",
            "Epoch 58/100\n",
            "15/15 [==============================] - 0s 4ms/step - loss: 0.1231 - accuracy: 0.9798 - val_loss: 0.1048 - val_accuracy: 0.9912\n",
            "Epoch 59/100\n",
            "15/15 [==============================] - 0s 4ms/step - loss: 0.1326 - accuracy: 0.9762 - val_loss: 0.1033 - val_accuracy: 0.9912\n",
            "Epoch 60/100\n",
            "15/15 [==============================] - 0s 4ms/step - loss: 0.1258 - accuracy: 0.9746 - val_loss: 0.1019 - val_accuracy: 0.9912\n",
            "Epoch 61/100\n",
            "15/15 [==============================] - 0s 4ms/step - loss: 0.1351 - accuracy: 0.9774 - val_loss: 0.1006 - val_accuracy: 1.0000\n",
            "Epoch 62/100\n",
            "15/15 [==============================] - 0s 4ms/step - loss: 0.1274 - accuracy: 0.9791 - val_loss: 0.0993 - val_accuracy: 1.0000\n",
            "Epoch 63/100\n",
            "15/15 [==============================] - 0s 13ms/step - loss: 0.1219 - accuracy: 0.9782 - val_loss: 0.0982 - val_accuracy: 1.0000\n",
            "Epoch 64/100\n",
            "15/15 [==============================] - 0s 4ms/step - loss: 0.1341 - accuracy: 0.9706 - val_loss: 0.0970 - val_accuracy: 1.0000\n",
            "Epoch 65/100\n",
            "15/15 [==============================] - 0s 4ms/step - loss: 0.1513 - accuracy: 0.9633 - val_loss: 0.0959 - val_accuracy: 1.0000\n",
            "Epoch 66/100\n",
            "15/15 [==============================] - 0s 4ms/step - loss: 0.1417 - accuracy: 0.9710 - val_loss: 0.0947 - val_accuracy: 1.0000\n",
            "Epoch 67/100\n",
            "15/15 [==============================] - 0s 4ms/step - loss: 0.1315 - accuracy: 0.9724 - val_loss: 0.0936 - val_accuracy: 1.0000\n",
            "Epoch 68/100\n",
            "15/15 [==============================] - 0s 4ms/step - loss: 0.1148 - accuracy: 0.9760 - val_loss: 0.0927 - val_accuracy: 1.0000\n",
            "Epoch 69/100\n",
            "15/15 [==============================] - 0s 4ms/step - loss: 0.1252 - accuracy: 0.9758 - val_loss: 0.0917 - val_accuracy: 0.9912\n",
            "Epoch 70/100\n",
            "15/15 [==============================] - 0s 5ms/step - loss: 0.1257 - accuracy: 0.9747 - val_loss: 0.0906 - val_accuracy: 0.9912\n",
            "Epoch 71/100\n",
            "15/15 [==============================] - 0s 4ms/step - loss: 0.1360 - accuracy: 0.9639 - val_loss: 0.0897 - val_accuracy: 0.9825\n",
            "Epoch 72/100\n",
            "15/15 [==============================] - 0s 5ms/step - loss: 0.1215 - accuracy: 0.9776 - val_loss: 0.0887 - val_accuracy: 0.9912\n",
            "Epoch 73/100\n",
            "15/15 [==============================] - 0s 4ms/step - loss: 0.1277 - accuracy: 0.9739 - val_loss: 0.0878 - val_accuracy: 0.9912\n",
            "Epoch 74/100\n",
            "15/15 [==============================] - 0s 4ms/step - loss: 0.1227 - accuracy: 0.9749 - val_loss: 0.0869 - val_accuracy: 0.9912\n",
            "Epoch 75/100\n",
            "15/15 [==============================] - 0s 4ms/step - loss: 0.1237 - accuracy: 0.9701 - val_loss: 0.0859 - val_accuracy: 0.9912\n",
            "Epoch 76/100\n",
            "15/15 [==============================] - 0s 4ms/step - loss: 0.1141 - accuracy: 0.9742 - val_loss: 0.0851 - val_accuracy: 0.9912\n",
            "Epoch 77/100\n",
            "15/15 [==============================] - 0s 4ms/step - loss: 0.1183 - accuracy: 0.9756 - val_loss: 0.0843 - val_accuracy: 0.9912\n",
            "Epoch 78/100\n",
            "15/15 [==============================] - 0s 4ms/step - loss: 0.1176 - accuracy: 0.9632 - val_loss: 0.0836 - val_accuracy: 0.9825\n",
            "Epoch 79/100\n",
            "15/15 [==============================] - 0s 5ms/step - loss: 0.1202 - accuracy: 0.9760 - val_loss: 0.0829 - val_accuracy: 0.9825\n",
            "Epoch 80/100\n",
            "15/15 [==============================] - 0s 4ms/step - loss: 0.1148 - accuracy: 0.9792 - val_loss: 0.0821 - val_accuracy: 0.9825\n",
            "Epoch 81/100\n",
            "15/15 [==============================] - 0s 5ms/step - loss: 0.1043 - accuracy: 0.9801 - val_loss: 0.0813 - val_accuracy: 0.9825\n",
            "Epoch 82/100\n",
            "15/15 [==============================] - 0s 4ms/step - loss: 0.0934 - accuracy: 0.9847 - val_loss: 0.0807 - val_accuracy: 0.9825\n",
            "Epoch 83/100\n",
            "15/15 [==============================] - 0s 4ms/step - loss: 0.1073 - accuracy: 0.9770 - val_loss: 0.0801 - val_accuracy: 0.9825\n",
            "Epoch 84/100\n",
            "15/15 [==============================] - 0s 4ms/step - loss: 0.1235 - accuracy: 0.9662 - val_loss: 0.0795 - val_accuracy: 0.9825\n",
            "Epoch 85/100\n",
            "15/15 [==============================] - 0s 4ms/step - loss: 0.1265 - accuracy: 0.9679 - val_loss: 0.0788 - val_accuracy: 0.9825\n",
            "Epoch 86/100\n",
            "15/15 [==============================] - 0s 4ms/step - loss: 0.0964 - accuracy: 0.9867 - val_loss: 0.0782 - val_accuracy: 0.9825\n",
            "Epoch 87/100\n",
            "15/15 [==============================] - 0s 4ms/step - loss: 0.1256 - accuracy: 0.9674 - val_loss: 0.0775 - val_accuracy: 0.9825\n",
            "Epoch 88/100\n",
            "15/15 [==============================] - 0s 4ms/step - loss: 0.1040 - accuracy: 0.9840 - val_loss: 0.0769 - val_accuracy: 0.9825\n",
            "Epoch 89/100\n",
            "15/15 [==============================] - 0s 4ms/step - loss: 0.1105 - accuracy: 0.9737 - val_loss: 0.0763 - val_accuracy: 0.9825\n",
            "Epoch 90/100\n",
            "15/15 [==============================] - 0s 4ms/step - loss: 0.1148 - accuracy: 0.9814 - val_loss: 0.0758 - val_accuracy: 0.9825\n",
            "Epoch 91/100\n",
            "15/15 [==============================] - 0s 4ms/step - loss: 0.1037 - accuracy: 0.9755 - val_loss: 0.0752 - val_accuracy: 0.9825\n",
            "Epoch 92/100\n",
            "15/15 [==============================] - 0s 4ms/step - loss: 0.0985 - accuracy: 0.9840 - val_loss: 0.0746 - val_accuracy: 0.9825\n",
            "Epoch 93/100\n",
            "15/15 [==============================] - 0s 4ms/step - loss: 0.0964 - accuracy: 0.9801 - val_loss: 0.0741 - val_accuracy: 0.9825\n",
            "Epoch 94/100\n",
            "15/15 [==============================] - 0s 4ms/step - loss: 0.1120 - accuracy: 0.9704 - val_loss: 0.0736 - val_accuracy: 0.9825\n",
            "Epoch 95/100\n",
            "15/15 [==============================] - 0s 4ms/step - loss: 0.0917 - accuracy: 0.9780 - val_loss: 0.0730 - val_accuracy: 0.9825\n",
            "Epoch 96/100\n",
            "15/15 [==============================] - 0s 4ms/step - loss: 0.1104 - accuracy: 0.9716 - val_loss: 0.0726 - val_accuracy: 0.9825\n",
            "Epoch 97/100\n",
            "15/15 [==============================] - 0s 4ms/step - loss: 0.0941 - accuracy: 0.9802 - val_loss: 0.0721 - val_accuracy: 0.9825\n",
            "Epoch 98/100\n",
            "15/15 [==============================] - 0s 4ms/step - loss: 0.1175 - accuracy: 0.9734 - val_loss: 0.0716 - val_accuracy: 0.9825\n",
            "Epoch 99/100\n",
            "15/15 [==============================] - 0s 4ms/step - loss: 0.1041 - accuracy: 0.9798 - val_loss: 0.0711 - val_accuracy: 0.9825\n",
            "Epoch 100/100\n",
            "15/15 [==============================] - 0s 4ms/step - loss: 0.0903 - accuracy: 0.9832 - val_loss: 0.0707 - val_accuracy: 0.9825\n"
          ],
          "name": "stdout"
        }
      ]
    },
    {
      "cell_type": "code",
      "metadata": {
        "id": "5bOIoaclitaW"
      },
      "source": [
        ""
      ],
      "execution_count": 15,
      "outputs": []
    }
  ]
}