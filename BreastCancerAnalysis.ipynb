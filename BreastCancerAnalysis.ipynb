{
  "nbformat": 4,
  "nbformat_minor": 0,
  "metadata": {
    "colab": {
      "name": "BreastCancerAnalysis.ipynb",
      "provenance": [],
      "collapsed_sections": [],
      "authorship_tag": "ABX9TyOXTZONN4Ep4LBT4eeDI1vt",
      "include_colab_link": true
    },
    "kernelspec": {
      "name": "python3",
      "display_name": "Python 3"
    }
  },
  "cells": [
    {
      "cell_type": "markdown",
      "metadata": {
        "id": "view-in-github",
        "colab_type": "text"
      },
      "source": [
        "<a href=\"https://colab.research.google.com/github/Svhugani/MaschineLearningTests/blob/main/BreastCancerAnalysis.ipynb\" target=\"_parent\"><img src=\"https://colab.research.google.com/assets/colab-badge.svg\" alt=\"Open In Colab\"/></a>"
      ]
    },
    {
      "cell_type": "code",
      "metadata": {
        "id": "wqp2CCirDtbs"
      },
      "source": [
        "import tensorflow as tf\r\n",
        "import numpy as np\r\n",
        "from sklearn.datasets import load_breast_cancer\r\n",
        "from sklearn.model_selection import train_test_split\r\n",
        "from sklearn.preprocessing import StandardScaler, RobustScaler\r\n",
        "from sklearn.cluster import KMeans\r\n",
        "from matplotlib import pyplot as plt\r\n",
        "plt.style.use('dark_background')"
      ],
      "execution_count": 1,
      "outputs": []
    },
    {
      "cell_type": "code",
      "metadata": {
        "id": "EQ7GmQWnFh59"
      },
      "source": [
        "breast_cancer = load_breast_cancer()"
      ],
      "execution_count": 2,
      "outputs": []
    },
    {
      "cell_type": "code",
      "metadata": {
        "colab": {
          "base_uri": "https://localhost:8080/"
        },
        "id": "ow_GxFCWF8Md",
        "outputId": "aca00bbf-2aa3-4317-b377-67da95d20687"
      },
      "source": [
        "breast_cancer.keys()"
      ],
      "execution_count": 3,
      "outputs": [
        {
          "output_type": "execute_result",
          "data": {
            "text/plain": [
              "dict_keys(['data', 'target', 'target_names', 'DESCR', 'feature_names', 'filename'])"
            ]
          },
          "metadata": {
            "tags": []
          },
          "execution_count": 3
        }
      ]
    },
    {
      "cell_type": "code",
      "metadata": {
        "colab": {
          "base_uri": "https://localhost:8080/"
        },
        "id": "aVg2T6NwGHx1",
        "outputId": "86d473f3-2cf5-41a6-c391-37ca59585336"
      },
      "source": [
        "breast_cancer.data.shape"
      ],
      "execution_count": 4,
      "outputs": [
        {
          "output_type": "execute_result",
          "data": {
            "text/plain": [
              "(569, 30)"
            ]
          },
          "metadata": {
            "tags": []
          },
          "execution_count": 4
        }
      ]
    },
    {
      "cell_type": "code",
      "metadata": {
        "colab": {
          "base_uri": "https://localhost:8080/"
        },
        "id": "oHu6r7o8Sg2H",
        "outputId": "e6eb057f-3b7c-4d11-a623-0145b623807a"
      },
      "source": [
        "breast_cancer.target_names"
      ],
      "execution_count": 5,
      "outputs": [
        {
          "output_type": "execute_result",
          "data": {
            "text/plain": [
              "array(['malignant', 'benign'], dtype='<U9')"
            ]
          },
          "metadata": {
            "tags": []
          },
          "execution_count": 5
        }
      ]
    },
    {
      "cell_type": "code",
      "metadata": {
        "colab": {
          "base_uri": "https://localhost:8080/",
          "height": 91
        },
        "id": "_X0SEzA7GMQN",
        "outputId": "f7b98973-f457-47b3-adff-043d78de6e02"
      },
      "source": [
        "breast_cancer.DESCR"
      ],
      "execution_count": 6,
      "outputs": [
        {
          "output_type": "execute_result",
          "data": {
            "application/vnd.google.colaboratory.intrinsic+json": {
              "type": "string"
            },
            "text/plain": [
              "'.. _breast_cancer_dataset:\\n\\nBreast cancer wisconsin (diagnostic) dataset\\n--------------------------------------------\\n\\n**Data Set Characteristics:**\\n\\n    :Number of Instances: 569\\n\\n    :Number of Attributes: 30 numeric, predictive attributes and the class\\n\\n    :Attribute Information:\\n        - radius (mean of distances from center to points on the perimeter)\\n        - texture (standard deviation of gray-scale values)\\n        - perimeter\\n        - area\\n        - smoothness (local variation in radius lengths)\\n        - compactness (perimeter^2 / area - 1.0)\\n        - concavity (severity of concave portions of the contour)\\n        - concave points (number of concave portions of the contour)\\n        - symmetry \\n        - fractal dimension (\"coastline approximation\" - 1)\\n\\n        The mean, standard error, and \"worst\" or largest (mean of the three\\n        largest values) of these features were computed for each image,\\n        resulting in 30 features.  For instance, field 3 is Mean Radius, field\\n        13 is Radius SE, field 23 is Worst Radius.\\n\\n        - class:\\n                - WDBC-Malignant\\n                - WDBC-Benign\\n\\n    :Summary Statistics:\\n\\n    ===================================== ====== ======\\n                                           Min    Max\\n    ===================================== ====== ======\\n    radius (mean):                        6.981  28.11\\n    texture (mean):                       9.71   39.28\\n    perimeter (mean):                     43.79  188.5\\n    area (mean):                          143.5  2501.0\\n    smoothness (mean):                    0.053  0.163\\n    compactness (mean):                   0.019  0.345\\n    concavity (mean):                     0.0    0.427\\n    concave points (mean):                0.0    0.201\\n    symmetry (mean):                      0.106  0.304\\n    fractal dimension (mean):             0.05   0.097\\n    radius (standard error):              0.112  2.873\\n    texture (standard error):             0.36   4.885\\n    perimeter (standard error):           0.757  21.98\\n    area (standard error):                6.802  542.2\\n    smoothness (standard error):          0.002  0.031\\n    compactness (standard error):         0.002  0.135\\n    concavity (standard error):           0.0    0.396\\n    concave points (standard error):      0.0    0.053\\n    symmetry (standard error):            0.008  0.079\\n    fractal dimension (standard error):   0.001  0.03\\n    radius (worst):                       7.93   36.04\\n    texture (worst):                      12.02  49.54\\n    perimeter (worst):                    50.41  251.2\\n    area (worst):                         185.2  4254.0\\n    smoothness (worst):                   0.071  0.223\\n    compactness (worst):                  0.027  1.058\\n    concavity (worst):                    0.0    1.252\\n    concave points (worst):               0.0    0.291\\n    symmetry (worst):                     0.156  0.664\\n    fractal dimension (worst):            0.055  0.208\\n    ===================================== ====== ======\\n\\n    :Missing Attribute Values: None\\n\\n    :Class Distribution: 212 - Malignant, 357 - Benign\\n\\n    :Creator:  Dr. William H. Wolberg, W. Nick Street, Olvi L. Mangasarian\\n\\n    :Donor: Nick Street\\n\\n    :Date: November, 1995\\n\\nThis is a copy of UCI ML Breast Cancer Wisconsin (Diagnostic) datasets.\\nhttps://goo.gl/U2Uwz2\\n\\nFeatures are computed from a digitized image of a fine needle\\naspirate (FNA) of a breast mass.  They describe\\ncharacteristics of the cell nuclei present in the image.\\n\\nSeparating plane described above was obtained using\\nMultisurface Method-Tree (MSM-T) [K. P. Bennett, \"Decision Tree\\nConstruction Via Linear Programming.\" Proceedings of the 4th\\nMidwest Artificial Intelligence and Cognitive Science Society,\\npp. 97-101, 1992], a classification method which uses linear\\nprogramming to construct a decision tree.  Relevant features\\nwere selected using an exhaustive search in the space of 1-4\\nfeatures and 1-3 separating planes.\\n\\nThe actual linear program used to obtain the separating plane\\nin the 3-dimensional space is that described in:\\n[K. P. Bennett and O. L. Mangasarian: \"Robust Linear\\nProgramming Discrimination of Two Linearly Inseparable Sets\",\\nOptimization Methods and Software 1, 1992, 23-34].\\n\\nThis database is also available through the UW CS ftp server:\\n\\nftp ftp.cs.wisc.edu\\ncd math-prog/cpo-dataset/machine-learn/WDBC/\\n\\n.. topic:: References\\n\\n   - W.N. Street, W.H. Wolberg and O.L. Mangasarian. Nuclear feature extraction \\n     for breast tumor diagnosis. IS&T/SPIE 1993 International Symposium on \\n     Electronic Imaging: Science and Technology, volume 1905, pages 861-870,\\n     San Jose, CA, 1993.\\n   - O.L. Mangasarian, W.N. Street and W.H. Wolberg. Breast cancer diagnosis and \\n     prognosis via linear programming. Operations Research, 43(4), pages 570-577, \\n     July-August 1995.\\n   - W.H. Wolberg, W.N. Street, and O.L. Mangasarian. Machine learning techniques\\n     to diagnose breast cancer from fine-needle aspirates. Cancer Letters 77 (1994) \\n     163-171.'"
            ]
          },
          "metadata": {
            "tags": []
          },
          "execution_count": 6
        }
      ]
    },
    {
      "cell_type": "code",
      "metadata": {
        "id": "y61uBmD7Iqac"
      },
      "source": [
        "data = breast_cancer.data\r\n",
        "target = breast_cancer.target\r\n",
        "x_train, x_test, y_train, y_test = train_test_split(data, target, test_size = 0.2)"
      ],
      "execution_count": 7,
      "outputs": []
    },
    {
      "cell_type": "code",
      "metadata": {
        "colab": {
          "base_uri": "https://localhost:8080/",
          "height": 320
        },
        "id": "L1dup5jIGuXt",
        "outputId": "bd277e80-f78d-4d1b-8b5a-a4e6b8cac9df"
      },
      "source": [
        "# data before preprocessing\r\n",
        "\r\n",
        "data_features_means = [x_train[:, i].mean() for i in range(x_train.shape[1])]\r\n",
        "data_features_std = [x_train[:, i].std() for i in range(x_train.shape[1])]\r\n",
        "\r\n",
        "plt.subplots(figsize = (10,5))\r\n",
        "plt.plot(data_features_means, label = 'means')\r\n",
        "plt.plot(data_features_std, label = 'standard derivs')\r\n",
        "plt.legend()\r\n",
        "plt.grid()"
      ],
      "execution_count": 8,
      "outputs": [
        {
          "output_type": "display_data",
          "data": {
            "image/png": "[encoded data removed]",
            "text/plain": [
              "<Figure size 720x360 with 1 Axes>"
            ]
          },
          "metadata": {
            "tags": [],
            "needs_background": "dark"
          }
        }
      ]
    },
    {
      "cell_type": "code",
      "metadata": {
        "colab": {
          "base_uri": "https://localhost:8080/",
          "height": 320
        },
        "id": "koBgR4t5IDDF",
        "outputId": "f3bae095-9943-47fd-96a2-419657dc0994"
      },
      "source": [
        "# data after processing\r\n",
        "\r\n",
        "#scaler = RobustScaler(quantile_range=(25, 75))\r\n",
        "scaler = StandardScaler()\r\n",
        "x_train = scaler.fit_transform(x_train)\r\n",
        "x_test = scaler.fit_transform(x_test)\r\n",
        "\r\n",
        "data_features_means = [x_train[:, i].mean() for i in range(x_train.shape[1])]\r\n",
        "data_features_std = [x_train[:, i].std() for i in range(x_train.shape[1])]\r\n",
        "\r\n",
        "plt.subplots(figsize = (10,5))\r\n",
        "plt.plot(data_features_means, label = 'means')\r\n",
        "plt.plot(data_features_std, label = 'standard derivs')\r\n",
        "plt.legend()\r\n",
        "plt.grid()"
      ],
      "execution_count": 9,
      "outputs": [
        {
          "output_type": "display_data",
          "data": {
            "image/png": "[encoded data removed]",
            "text/plain": [
              "<Figure size 720x360 with 1 Axes>"
            ]
          },
          "metadata": {
            "tags": [],
            "needs_background": "dark"
          }
        }
      ]
    },
    {
      "cell_type": "code",
      "metadata": {
        "colab": {
          "base_uri": "https://localhost:8080/",
          "height": 320
        },
        "id": "wrYI_VntN2hz",
        "outputId": "e21265d6-930b-4216-e862-7eae934fecc3"
      },
      "source": [
        "# K-means clustering form many possible scenarios\r\n",
        "cluster_numbers = range(1, 16)\r\n",
        "k_means_classificators = [KMeans(n_clusters = i, max_iter = 100).fit(x_test) for i in cluster_numbers]\r\n",
        "k_means_scores = [k_means_classificators[i].score(x_test) for i in range(len(k_means_classificators))]\r\n",
        "\r\n",
        "plt.subplots(figsize = (10,5))\r\n",
        "plt.plot(k_means_scores, label = 'k means score')\r\n",
        "plt.xticks(cluster_numbers)\r\n",
        "plt.legend()\r\n",
        "plt.grid()"
      ],
      "execution_count": 10,
      "outputs": [
        {
          "output_type": "display_data",
          "data": {
            "image/png": "[encoded data removed]",
            "text/plain": [
              "<Figure size 720x360 with 1 Axes>"
            ]
          },
          "metadata": {
            "tags": [],
            "needs_background": "dark"
          }
        }
      ]
    },
    {
      "cell_type": "code",
      "metadata": {
        "colab": {
          "base_uri": "https://localhost:8080/"
        },
        "id": "S5L_e6K_SN4g",
        "outputId": "d07bc32e-ece9-44ad-eeb5-1d4973159d53"
      },
      "source": [
        "# 2-clusterring ('malignant', 'benign')\r\n",
        "\r\n",
        "k_means_binary = k_means_classificators[1]\r\n",
        "k_means_binary.inertia_\r\n",
        "k_means_binary.score(x_test)"
      ],
      "execution_count": 11,
      "outputs": [
        {
          "output_type": "execute_result",
          "data": {
            "text/plain": [
              "-2183.9423564408116"
            ]
          },
          "metadata": {
            "tags": []
          },
          "execution_count": 11
        }
      ]
    },
    {
      "cell_type": "code",
      "metadata": {
        "colab": {
          "base_uri": "https://localhost:8080/"
        },
        "id": "02oJvxUYVbJV",
        "outputId": "d248892d-1e5e-4c0c-95c9-b06cacaa4f67"
      },
      "source": [
        "k_means_prediction = k_means_binary.predict(x_test)\r\n",
        "k_means_prediction"
      ],
      "execution_count": 12,
      "outputs": [
        {
          "output_type": "execute_result",
          "data": {
            "text/plain": [
              "array([1, 1, 1, 0, 0, 0, 0, 0, 0, 0, 1, 0, 0, 0, 0, 1, 0, 0, 0, 1, 1, 0,\n",
              "       1, 0, 1, 0, 1, 0, 0, 0, 0, 0, 0, 0, 0, 0, 0, 0, 1, 0, 0, 1, 0, 0,\n",
              "       0, 0, 1, 1, 0, 1, 0, 0, 1, 0, 0, 0, 0, 0, 0, 1, 0, 0, 1, 0, 0, 1,\n",
              "       0, 0, 0, 0, 0, 1, 0, 0, 0, 1, 1, 1, 0, 0, 0, 0, 1, 1, 0, 0, 1, 0,\n",
              "       0, 0, 1, 0, 0, 0, 0, 1, 1, 0, 0, 0, 0, 1, 0, 0, 0, 1, 0, 1, 0, 0,\n",
              "       0, 0, 0, 0], dtype=int32)"
            ]
          },
          "metadata": {
            "tags": []
          },
          "execution_count": 12
        }
      ]
    },
    {
      "cell_type": "code",
      "metadata": {
        "id": "l8Z4Zylbi5_v"
      },
      "source": [
        "#k_means_fitting = k_means_binary.predict(x_train)\r\n",
        "#misclassified_idx = np.where(k_means_fitting == y_train)[0]\r\n",
        "#k_means_accuracy = len(misclassified_idx)/ float(len(y_train))\r\n",
        "#print(\"k-means validation accuracy for k=2 equals: \" + str(np.round(k_means_accuracy * 100, 2)) + \"%\")"
      ],
      "execution_count": 13,
      "outputs": []
    },
    {
      "cell_type": "markdown",
      "metadata": {
        "id": "nJHi23EUWRVP"
      },
      "source": [
        ""
      ]
    },
    {
      "cell_type": "code",
      "metadata": {
        "colab": {
          "base_uri": "https://localhost:8080/"
        },
        "id": "3wxaRwo1V_Md",
        "outputId": "6b960b54-1630-4455-956d-722859769e30"
      },
      "source": [
        "# K- means clustering for k = 2 ( only that makes sense since we want binary classification)\r\n",
        "misclassified_idx = np.where(k_means_prediction == y_test)[0]\r\n",
        "k_means_accuracy = len(misclassified_idx)/ float(len(y_test))\r\n",
        "k_means_accuracy = max( k_means_accuracy, 1-k_means_accuracy) # we only cluster, so for example all 1s may be classified as 0s. It is irrelevant\r\n",
        "print(\"k-means validation accuracy for k=2 equals: \" + str(np.round(k_means_accuracy * 100, 2)) + \"%\")"
      ],
      "execution_count": 21,
      "outputs": [
        {
          "output_type": "stream",
          "text": [
            "k-means validation accuracy for k=2 equals: 87.72%\n"
          ],
          "name": "stdout"
        }
      ]
    },
    {
      "cell_type": "markdown",
      "metadata": {
        "id": "0S5r1wf9f4ZT"
      },
      "source": [
        "\r\n",
        "\r\n",
        "---\r\n",
        "\r\n",
        "\r\n",
        "K-means method for 2-categories clustering classifies into 2 groups properly  with accuracy around 85-92% (small dataset). \r\n",
        "Clustering method suggests around 5 significant categories. It could be the for example for the stage of the cancer (?). For RobustScaler which scales a bit differently the resuts, we get accuracy around 2%% higher on average (still may be variance). \r\n",
        "\r\n",
        "\r\n",
        "---\r\n",
        "\r\n"
      ]
    },
    {
      "cell_type": "code",
      "metadata": {
        "colab": {
          "base_uri": "https://localhost:8080/"
        },
        "id": "XC6sOOcihBg4",
        "outputId": "854cd791-effa-486f-9a11-6144dba63c7b"
      },
      "source": [
        "# linear regression classification\r\n",
        "N, D = x_train.shape\r\n",
        "model = tf.keras.models.Sequential()\r\n",
        "model.add(tf.keras.layers.Dense(1,input_shape = (D, ), activation = 'sigmoid'))\r\n",
        "model.compile(optimizer = 'adam', loss = 'binary_crossentropy', metrics = ['accuracy'])\r\n",
        "result = model.fit(x_train, y_train, validation_data = (x_test, y_test), epochs = 100)\r\n"
      ],
      "execution_count": 15,
      "outputs": [
        {
          "output_type": "stream",
          "text": [
            "Epoch 1/100\n",
            "15/15 [==============================] - 1s 35ms/step - loss: 0.8457 - accuracy: 0.4898 - val_loss: 0.7288 - val_accuracy: 0.5877\n",
            "Epoch 2/100\n",
            "15/15 [==============================] - 0s 3ms/step - loss: 0.7470 - accuracy: 0.5907 - val_loss: 0.6461 - val_accuracy: 0.6404\n",
            "Epoch 3/100\n",
            "15/15 [==============================] - 0s 4ms/step - loss: 0.6471 - accuracy: 0.6487 - val_loss: 0.5764 - val_accuracy: 0.6842\n",
            "Epoch 4/100\n",
            "15/15 [==============================] - 0s 5ms/step - loss: 0.5859 - accuracy: 0.6625 - val_loss: 0.5213 - val_accuracy: 0.7544\n",
            "Epoch 5/100\n",
            "15/15 [==============================] - 0s 4ms/step - loss: 0.5371 - accuracy: 0.7150 - val_loss: 0.4760 - val_accuracy: 0.7632\n",
            "Epoch 6/100\n",
            "15/15 [==============================] - 0s 4ms/step - loss: 0.4725 - accuracy: 0.7934 - val_loss: 0.4397 - val_accuracy: 0.8246\n",
            "Epoch 7/100\n",
            "15/15 [==============================] - 0s 4ms/step - loss: 0.4148 - accuracy: 0.8191 - val_loss: 0.4102 - val_accuracy: 0.8509\n",
            "Epoch 8/100\n",
            "15/15 [==============================] - 0s 4ms/step - loss: 0.3737 - accuracy: 0.8551 - val_loss: 0.3857 - val_accuracy: 0.8596\n",
            "Epoch 9/100\n",
            "15/15 [==============================] - 0s 13ms/step - loss: 0.3787 - accuracy: 0.8656 - val_loss: 0.3652 - val_accuracy: 0.8509\n",
            "Epoch 10/100\n",
            "15/15 [==============================] - 0s 4ms/step - loss: 0.3343 - accuracy: 0.8937 - val_loss: 0.3480 - val_accuracy: 0.8596\n",
            "Epoch 11/100\n",
            "15/15 [==============================] - 0s 4ms/step - loss: 0.3254 - accuracy: 0.8846 - val_loss: 0.3327 - val_accuracy: 0.8596\n",
            "Epoch 12/100\n",
            "15/15 [==============================] - 0s 4ms/step - loss: 0.3146 - accuracy: 0.8975 - val_loss: 0.3196 - val_accuracy: 0.8596\n",
            "Epoch 13/100\n",
            "15/15 [==============================] - 0s 4ms/step - loss: 0.2968 - accuracy: 0.9083 - val_loss: 0.3082 - val_accuracy: 0.8596\n",
            "Epoch 14/100\n",
            "15/15 [==============================] - 0s 5ms/step - loss: 0.2830 - accuracy: 0.9133 - val_loss: 0.2980 - val_accuracy: 0.8596\n",
            "Epoch 15/100\n",
            "15/15 [==============================] - 0s 4ms/step - loss: 0.2657 - accuracy: 0.9105 - val_loss: 0.2887 - val_accuracy: 0.8684\n",
            "Epoch 16/100\n",
            "15/15 [==============================] - 0s 4ms/step - loss: 0.2521 - accuracy: 0.9213 - val_loss: 0.2800 - val_accuracy: 0.8684\n",
            "Epoch 17/100\n",
            "15/15 [==============================] - 0s 4ms/step - loss: 0.2447 - accuracy: 0.9138 - val_loss: 0.2723 - val_accuracy: 0.8772\n",
            "Epoch 18/100\n",
            "15/15 [==============================] - 0s 5ms/step - loss: 0.2258 - accuracy: 0.9388 - val_loss: 0.2653 - val_accuracy: 0.8860\n",
            "Epoch 19/100\n",
            "15/15 [==============================] - 0s 5ms/step - loss: 0.2149 - accuracy: 0.9435 - val_loss: 0.2591 - val_accuracy: 0.8947\n",
            "Epoch 20/100\n",
            "15/15 [==============================] - 0s 4ms/step - loss: 0.2262 - accuracy: 0.9152 - val_loss: 0.2531 - val_accuracy: 0.8947\n",
            "Epoch 21/100\n",
            "15/15 [==============================] - 0s 4ms/step - loss: 0.2272 - accuracy: 0.9280 - val_loss: 0.2475 - val_accuracy: 0.8947\n",
            "Epoch 22/100\n",
            "15/15 [==============================] - 0s 4ms/step - loss: 0.2215 - accuracy: 0.9215 - val_loss: 0.2424 - val_accuracy: 0.9035\n",
            "Epoch 23/100\n",
            "15/15 [==============================] - 0s 4ms/step - loss: 0.2063 - accuracy: 0.9264 - val_loss: 0.2376 - val_accuracy: 0.8947\n",
            "Epoch 24/100\n",
            "15/15 [==============================] - 0s 4ms/step - loss: 0.1962 - accuracy: 0.9427 - val_loss: 0.2333 - val_accuracy: 0.8947\n",
            "Epoch 25/100\n",
            "15/15 [==============================] - 0s 4ms/step - loss: 0.2107 - accuracy: 0.9305 - val_loss: 0.2289 - val_accuracy: 0.8947\n",
            "Epoch 26/100\n",
            "15/15 [==============================] - 0s 4ms/step - loss: 0.1788 - accuracy: 0.9453 - val_loss: 0.2249 - val_accuracy: 0.8947\n",
            "Epoch 27/100\n",
            "15/15 [==============================] - 0s 4ms/step - loss: 0.1948 - accuracy: 0.9276 - val_loss: 0.2212 - val_accuracy: 0.8947\n",
            "Epoch 28/100\n",
            "15/15 [==============================] - 0s 5ms/step - loss: 0.1985 - accuracy: 0.9312 - val_loss: 0.2176 - val_accuracy: 0.8947\n",
            "Epoch 29/100\n",
            "15/15 [==============================] - 0s 4ms/step - loss: 0.1779 - accuracy: 0.9357 - val_loss: 0.2144 - val_accuracy: 0.8947\n",
            "Epoch 30/100\n",
            "15/15 [==============================] - 0s 4ms/step - loss: 0.1639 - accuracy: 0.9391 - val_loss: 0.2114 - val_accuracy: 0.8947\n",
            "Epoch 31/100\n",
            "15/15 [==============================] - 0s 4ms/step - loss: 0.1742 - accuracy: 0.9362 - val_loss: 0.2083 - val_accuracy: 0.9035\n",
            "Epoch 32/100\n",
            "15/15 [==============================] - 0s 4ms/step - loss: 0.1659 - accuracy: 0.9428 - val_loss: 0.2057 - val_accuracy: 0.9035\n",
            "Epoch 33/100\n",
            "15/15 [==============================] - 0s 4ms/step - loss: 0.1663 - accuracy: 0.9404 - val_loss: 0.2028 - val_accuracy: 0.9035\n",
            "Epoch 34/100\n",
            "15/15 [==============================] - 0s 4ms/step - loss: 0.1632 - accuracy: 0.9418 - val_loss: 0.2003 - val_accuracy: 0.9035\n",
            "Epoch 35/100\n",
            "15/15 [==============================] - 0s 4ms/step - loss: 0.1683 - accuracy: 0.9326 - val_loss: 0.1978 - val_accuracy: 0.9035\n",
            "Epoch 36/100\n",
            "15/15 [==============================] - 0s 4ms/step - loss: 0.1418 - accuracy: 0.9539 - val_loss: 0.1957 - val_accuracy: 0.9035\n",
            "Epoch 37/100\n",
            "15/15 [==============================] - 0s 4ms/step - loss: 0.1416 - accuracy: 0.9467 - val_loss: 0.1927 - val_accuracy: 0.9123\n",
            "Epoch 38/100\n",
            "15/15 [==============================] - 0s 4ms/step - loss: 0.1352 - accuracy: 0.9517 - val_loss: 0.1906 - val_accuracy: 0.9123\n",
            "Epoch 39/100\n",
            "15/15 [==============================] - 0s 4ms/step - loss: 0.1437 - accuracy: 0.9384 - val_loss: 0.1888 - val_accuracy: 0.9123\n",
            "Epoch 40/100\n",
            "15/15 [==============================] - 0s 4ms/step - loss: 0.1523 - accuracy: 0.9377 - val_loss: 0.1871 - val_accuracy: 0.9123\n",
            "Epoch 41/100\n",
            "15/15 [==============================] - 0s 5ms/step - loss: 0.1343 - accuracy: 0.9612 - val_loss: 0.1856 - val_accuracy: 0.9123\n",
            "Epoch 42/100\n",
            "15/15 [==============================] - 0s 4ms/step - loss: 0.1418 - accuracy: 0.9464 - val_loss: 0.1839 - val_accuracy: 0.9123\n",
            "Epoch 43/100\n",
            "15/15 [==============================] - 0s 4ms/step - loss: 0.1272 - accuracy: 0.9585 - val_loss: 0.1825 - val_accuracy: 0.9123\n",
            "Epoch 44/100\n",
            "15/15 [==============================] - 0s 4ms/step - loss: 0.1516 - accuracy: 0.9317 - val_loss: 0.1810 - val_accuracy: 0.9123\n",
            "Epoch 45/100\n",
            "15/15 [==============================] - 0s 4ms/step - loss: 0.1467 - accuracy: 0.9361 - val_loss: 0.1797 - val_accuracy: 0.9123\n",
            "Epoch 46/100\n",
            "15/15 [==============================] - 0s 4ms/step - loss: 0.1217 - accuracy: 0.9505 - val_loss: 0.1785 - val_accuracy: 0.9123\n",
            "Epoch 47/100\n",
            "15/15 [==============================] - 0s 5ms/step - loss: 0.1220 - accuracy: 0.9534 - val_loss: 0.1771 - val_accuracy: 0.9123\n",
            "Epoch 48/100\n",
            "15/15 [==============================] - 0s 5ms/step - loss: 0.1207 - accuracy: 0.9570 - val_loss: 0.1758 - val_accuracy: 0.9123\n",
            "Epoch 49/100\n",
            "15/15 [==============================] - 0s 4ms/step - loss: 0.1188 - accuracy: 0.9665 - val_loss: 0.1747 - val_accuracy: 0.9123\n",
            "Epoch 50/100\n",
            "15/15 [==============================] - 0s 4ms/step - loss: 0.1225 - accuracy: 0.9618 - val_loss: 0.1735 - val_accuracy: 0.9123\n",
            "Epoch 51/100\n",
            "15/15 [==============================] - 0s 4ms/step - loss: 0.1126 - accuracy: 0.9670 - val_loss: 0.1723 - val_accuracy: 0.9123\n",
            "Epoch 52/100\n",
            "15/15 [==============================] - 0s 4ms/step - loss: 0.1205 - accuracy: 0.9574 - val_loss: 0.1713 - val_accuracy: 0.9123\n",
            "Epoch 53/100\n",
            "15/15 [==============================] - 0s 4ms/step - loss: 0.1116 - accuracy: 0.9733 - val_loss: 0.1702 - val_accuracy: 0.9123\n",
            "Epoch 54/100\n",
            "15/15 [==============================] - 0s 5ms/step - loss: 0.1020 - accuracy: 0.9817 - val_loss: 0.1696 - val_accuracy: 0.9211\n",
            "Epoch 55/100\n",
            "15/15 [==============================] - 0s 4ms/step - loss: 0.1201 - accuracy: 0.9596 - val_loss: 0.1685 - val_accuracy: 0.9211\n",
            "Epoch 56/100\n",
            "15/15 [==============================] - 0s 4ms/step - loss: 0.1029 - accuracy: 0.9708 - val_loss: 0.1675 - val_accuracy: 0.9211\n",
            "Epoch 57/100\n",
            "15/15 [==============================] - 0s 4ms/step - loss: 0.1101 - accuracy: 0.9591 - val_loss: 0.1666 - val_accuracy: 0.9211\n",
            "Epoch 58/100\n",
            "15/15 [==============================] - 0s 4ms/step - loss: 0.1050 - accuracy: 0.9729 - val_loss: 0.1658 - val_accuracy: 0.9211\n",
            "Epoch 59/100\n",
            "15/15 [==============================] - 0s 4ms/step - loss: 0.1011 - accuracy: 0.9756 - val_loss: 0.1651 - val_accuracy: 0.9211\n",
            "Epoch 60/100\n",
            "15/15 [==============================] - 0s 4ms/step - loss: 0.1203 - accuracy: 0.9582 - val_loss: 0.1643 - val_accuracy: 0.9211\n",
            "Epoch 61/100\n",
            "15/15 [==============================] - 0s 4ms/step - loss: 0.1031 - accuracy: 0.9756 - val_loss: 0.1637 - val_accuracy: 0.9211\n",
            "Epoch 62/100\n",
            "15/15 [==============================] - 0s 4ms/step - loss: 0.1203 - accuracy: 0.9678 - val_loss: 0.1624 - val_accuracy: 0.9211\n",
            "Epoch 63/100\n",
            "15/15 [==============================] - 0s 13ms/step - loss: 0.1084 - accuracy: 0.9753 - val_loss: 0.1618 - val_accuracy: 0.9211\n",
            "Epoch 64/100\n",
            "15/15 [==============================] - 0s 5ms/step - loss: 0.0985 - accuracy: 0.9760 - val_loss: 0.1612 - val_accuracy: 0.9211\n",
            "Epoch 65/100\n",
            "15/15 [==============================] - 0s 4ms/step - loss: 0.1127 - accuracy: 0.9678 - val_loss: 0.1605 - val_accuracy: 0.9211\n",
            "Epoch 66/100\n",
            "15/15 [==============================] - 0s 4ms/step - loss: 0.1079 - accuracy: 0.9568 - val_loss: 0.1599 - val_accuracy: 0.9211\n",
            "Epoch 67/100\n",
            "15/15 [==============================] - 0s 4ms/step - loss: 0.0964 - accuracy: 0.9730 - val_loss: 0.1592 - val_accuracy: 0.9211\n",
            "Epoch 68/100\n",
            "15/15 [==============================] - 0s 4ms/step - loss: 0.1125 - accuracy: 0.9645 - val_loss: 0.1586 - val_accuracy: 0.9211\n",
            "Epoch 69/100\n",
            "15/15 [==============================] - 0s 5ms/step - loss: 0.0875 - accuracy: 0.9804 - val_loss: 0.1580 - val_accuracy: 0.9211\n",
            "Epoch 70/100\n",
            "15/15 [==============================] - 0s 4ms/step - loss: 0.1051 - accuracy: 0.9687 - val_loss: 0.1573 - val_accuracy: 0.9211\n",
            "Epoch 71/100\n",
            "15/15 [==============================] - 0s 4ms/step - loss: 0.1039 - accuracy: 0.9657 - val_loss: 0.1567 - val_accuracy: 0.9211\n",
            "Epoch 72/100\n",
            "15/15 [==============================] - 0s 4ms/step - loss: 0.0960 - accuracy: 0.9709 - val_loss: 0.1561 - val_accuracy: 0.9211\n",
            "Epoch 73/100\n",
            "15/15 [==============================] - 0s 4ms/step - loss: 0.0899 - accuracy: 0.9775 - val_loss: 0.1556 - val_accuracy: 0.9211\n",
            "Epoch 74/100\n",
            "15/15 [==============================] - 0s 3ms/step - loss: 0.0996 - accuracy: 0.9644 - val_loss: 0.1552 - val_accuracy: 0.9211\n",
            "Epoch 75/100\n",
            "15/15 [==============================] - 0s 4ms/step - loss: 0.0999 - accuracy: 0.9703 - val_loss: 0.1544 - val_accuracy: 0.9211\n",
            "Epoch 76/100\n",
            "15/15 [==============================] - 0s 5ms/step - loss: 0.1003 - accuracy: 0.9728 - val_loss: 0.1539 - val_accuracy: 0.9211\n",
            "Epoch 77/100\n",
            "15/15 [==============================] - 0s 5ms/step - loss: 0.0846 - accuracy: 0.9799 - val_loss: 0.1534 - val_accuracy: 0.9211\n",
            "Epoch 78/100\n",
            "15/15 [==============================] - 0s 5ms/step - loss: 0.0967 - accuracy: 0.9762 - val_loss: 0.1529 - val_accuracy: 0.9211\n",
            "Epoch 79/100\n",
            "15/15 [==============================] - 0s 4ms/step - loss: 0.1064 - accuracy: 0.9628 - val_loss: 0.1523 - val_accuracy: 0.9211\n",
            "Epoch 80/100\n",
            "15/15 [==============================] - 0s 4ms/step - loss: 0.0947 - accuracy: 0.9774 - val_loss: 0.1519 - val_accuracy: 0.9211\n",
            "Epoch 81/100\n",
            "15/15 [==============================] - 0s 4ms/step - loss: 0.0966 - accuracy: 0.9718 - val_loss: 0.1515 - val_accuracy: 0.9211\n",
            "Epoch 82/100\n",
            "15/15 [==============================] - 0s 4ms/step - loss: 0.0786 - accuracy: 0.9830 - val_loss: 0.1511 - val_accuracy: 0.9211\n",
            "Epoch 83/100\n",
            "15/15 [==============================] - 0s 5ms/step - loss: 0.0999 - accuracy: 0.9772 - val_loss: 0.1508 - val_accuracy: 0.9211\n",
            "Epoch 84/100\n",
            "15/15 [==============================] - 0s 5ms/step - loss: 0.0901 - accuracy: 0.9803 - val_loss: 0.1506 - val_accuracy: 0.9211\n",
            "Epoch 85/100\n",
            "15/15 [==============================] - 0s 5ms/step - loss: 0.0930 - accuracy: 0.9641 - val_loss: 0.1501 - val_accuracy: 0.9211\n",
            "Epoch 86/100\n",
            "15/15 [==============================] - 0s 4ms/step - loss: 0.0828 - accuracy: 0.9775 - val_loss: 0.1498 - val_accuracy: 0.9211\n",
            "Epoch 87/100\n",
            "15/15 [==============================] - 0s 5ms/step - loss: 0.1041 - accuracy: 0.9722 - val_loss: 0.1493 - val_accuracy: 0.9211\n",
            "Epoch 88/100\n",
            "15/15 [==============================] - 0s 5ms/step - loss: 0.0914 - accuracy: 0.9734 - val_loss: 0.1488 - val_accuracy: 0.9211\n",
            "Epoch 89/100\n",
            "15/15 [==============================] - 0s 4ms/step - loss: 0.0803 - accuracy: 0.9825 - val_loss: 0.1481 - val_accuracy: 0.9211\n",
            "Epoch 90/100\n",
            "15/15 [==============================] - 0s 4ms/step - loss: 0.0916 - accuracy: 0.9796 - val_loss: 0.1478 - val_accuracy: 0.9211\n",
            "Epoch 91/100\n",
            "15/15 [==============================] - 0s 5ms/step - loss: 0.0809 - accuracy: 0.9855 - val_loss: 0.1475 - val_accuracy: 0.9211\n",
            "Epoch 92/100\n",
            "15/15 [==============================] - 0s 5ms/step - loss: 0.0882 - accuracy: 0.9779 - val_loss: 0.1472 - val_accuracy: 0.9211\n",
            "Epoch 93/100\n",
            "15/15 [==============================] - 0s 4ms/step - loss: 0.0864 - accuracy: 0.9833 - val_loss: 0.1469 - val_accuracy: 0.9211\n",
            "Epoch 94/100\n",
            "15/15 [==============================] - 0s 5ms/step - loss: 0.0833 - accuracy: 0.9801 - val_loss: 0.1467 - val_accuracy: 0.9211\n",
            "Epoch 95/100\n",
            "15/15 [==============================] - 0s 4ms/step - loss: 0.0759 - accuracy: 0.9788 - val_loss: 0.1464 - val_accuracy: 0.9211\n",
            "Epoch 96/100\n",
            "15/15 [==============================] - 0s 4ms/step - loss: 0.0772 - accuracy: 0.9746 - val_loss: 0.1458 - val_accuracy: 0.9386\n",
            "Epoch 97/100\n",
            "15/15 [==============================] - 0s 4ms/step - loss: 0.0703 - accuracy: 0.9906 - val_loss: 0.1455 - val_accuracy: 0.9386\n",
            "Epoch 98/100\n",
            "15/15 [==============================] - 0s 5ms/step - loss: 0.0805 - accuracy: 0.9735 - val_loss: 0.1453 - val_accuracy: 0.9474\n",
            "Epoch 99/100\n",
            "15/15 [==============================] - 0s 4ms/step - loss: 0.0684 - accuracy: 0.9830 - val_loss: 0.1451 - val_accuracy: 0.9474\n",
            "Epoch 100/100\n",
            "15/15 [==============================] - 0s 4ms/step - loss: 0.0862 - accuracy: 0.9720 - val_loss: 0.1448 - val_accuracy: 0.9474\n"
          ],
          "name": "stdout"
        }
      ]
    },
    {
      "cell_type": "code",
      "metadata": {
        "id": "5bOIoaclitaW"
      },
      "source": [
        ""
      ],
      "execution_count": 15,
      "outputs": []
    }
  ]
}