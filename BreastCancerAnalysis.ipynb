{
  "nbformat": 4,
  "nbformat_minor": 0,
  "metadata": {
    "colab": {
      "name": "BreastCancerAnalysis.ipynb",
      "provenance": [],
      "collapsed_sections": [],
      "authorship_tag": "ABX9TyNoznGJV/TQPhVgSQQ/cdGi",
      "include_colab_link": true
    },
    "kernelspec": {
      "name": "python3",
      "display_name": "Python 3"
    }
  },
  "cells": [
    {
      "cell_type": "markdown",
      "metadata": {
        "id": "view-in-github",
        "colab_type": "text"
      },
      "source": [
        "<a href=\"https://colab.research.google.com/github/Svhugani/MaschineLearningTests/blob/main/BreastCancerAnalysis.ipynb\" target=\"_parent\"><img src=\"https://colab.research.google.com/assets/colab-badge.svg\" alt=\"Open In Colab\"/></a>"
      ]
    },
    {
      "cell_type": "code",
      "metadata": {
        "id": "wqp2CCirDtbs"
      },
      "source": [
        "import tensorflow as tf\r\n",
        "import numpy as np\r\n",
        "from sklearn.datasets import load_breast_cancer\r\n",
        "from sklearn.model_selection import train_test_split\r\n",
        "from sklearn.preprocessing import StandardScaler, RobustScaler\r\n",
        "from sklearn.cluster import KMeans\r\n",
        "from matplotlib import pyplot as plt\r\n",
        "plt.style.use('dark_background')"
      ],
      "execution_count": 1,
      "outputs": []
    },
    {
      "cell_type": "code",
      "metadata": {
        "id": "EQ7GmQWnFh59"
      },
      "source": [
        "breast_cancer = load_breast_cancer()"
      ],
      "execution_count": 2,
      "outputs": []
    },
    {
      "cell_type": "code",
      "metadata": {
        "colab": {
          "base_uri": "https://localhost:8080/"
        },
        "id": "ow_GxFCWF8Md",
        "outputId": "06dc2e54-53e1-4d56-c1fd-c9ad6893b70c"
      },
      "source": [
        "breast_cancer.keys()"
      ],
      "execution_count": 3,
      "outputs": [
        {
          "output_type": "execute_result",
          "data": {
            "text/plain": [
              "dict_keys(['data', 'target', 'target_names', 'DESCR', 'feature_names', 'filename'])"
            ]
          },
          "metadata": {
            "tags": []
          },
          "execution_count": 3
        }
      ]
    },
    {
      "cell_type": "code",
      "metadata": {
        "colab": {
          "base_uri": "https://localhost:8080/"
        },
        "id": "aVg2T6NwGHx1",
        "outputId": "b494034a-0278-4aab-f856-67a769f7189b"
      },
      "source": [
        "breast_cancer.data.shape"
      ],
      "execution_count": 4,
      "outputs": [
        {
          "output_type": "execute_result",
          "data": {
            "text/plain": [
              "(569, 30)"
            ]
          },
          "metadata": {
            "tags": []
          },
          "execution_count": 4
        }
      ]
    },
    {
      "cell_type": "code",
      "metadata": {
        "colab": {
          "base_uri": "https://localhost:8080/"
        },
        "id": "oHu6r7o8Sg2H",
        "outputId": "9188846f-ff30-45b0-9792-86c597aafd38"
      },
      "source": [
        "breast_cancer.target_names"
      ],
      "execution_count": 5,
      "outputs": [
        {
          "output_type": "execute_result",
          "data": {
            "text/plain": [
              "array(['malignant', 'benign'], dtype='<U9')"
            ]
          },
          "metadata": {
            "tags": []
          },
          "execution_count": 5
        }
      ]
    },
    {
      "cell_type": "code",
      "metadata": {
        "colab": {
          "base_uri": "https://localhost:8080/",
          "height": 91
        },
        "id": "_X0SEzA7GMQN",
        "outputId": "09210d1a-5f0b-43a9-9a11-ad856632c355"
      },
      "source": [
        "breast_cancer.DESCR"
      ],
      "execution_count": 6,
      "outputs": [
        {
          "output_type": "execute_result",
          "data": {
            "application/vnd.google.colaboratory.intrinsic+json": {
              "type": "string"
            },
            "text/plain": [
              "'.. _breast_cancer_dataset:\\n\\nBreast cancer wisconsin (diagnostic) dataset\\n--------------------------------------------\\n\\n**Data Set Characteristics:**\\n\\n    :Number of Instances: 569\\n\\n    :Number of Attributes: 30 numeric, predictive attributes and the class\\n\\n    :Attribute Information:\\n        - radius (mean of distances from center to points on the perimeter)\\n        - texture (standard deviation of gray-scale values)\\n        - perimeter\\n        - area\\n        - smoothness (local variation in radius lengths)\\n        - compactness (perimeter^2 / area - 1.0)\\n        - concavity (severity of concave portions of the contour)\\n        - concave points (number of concave portions of the contour)\\n        - symmetry \\n        - fractal dimension (\"coastline approximation\" - 1)\\n\\n        The mean, standard error, and \"worst\" or largest (mean of the three\\n        largest values) of these features were computed for each image,\\n        resulting in 30 features.  For instance, field 3 is Mean Radius, field\\n        13 is Radius SE, field 23 is Worst Radius.\\n\\n        - class:\\n                - WDBC-Malignant\\n                - WDBC-Benign\\n\\n    :Summary Statistics:\\n\\n    ===================================== ====== ======\\n                                           Min    Max\\n    ===================================== ====== ======\\n    radius (mean):                        6.981  28.11\\n    texture (mean):                       9.71   39.28\\n    perimeter (mean):                     43.79  188.5\\n    area (mean):                          143.5  2501.0\\n    smoothness (mean):                    0.053  0.163\\n    compactness (mean):                   0.019  0.345\\n    concavity (mean):                     0.0    0.427\\n    concave points (mean):                0.0    0.201\\n    symmetry (mean):                      0.106  0.304\\n    fractal dimension (mean):             0.05   0.097\\n    radius (standard error):              0.112  2.873\\n    texture (standard error):             0.36   4.885\\n    perimeter (standard error):           0.757  21.98\\n    area (standard error):                6.802  542.2\\n    smoothness (standard error):          0.002  0.031\\n    compactness (standard error):         0.002  0.135\\n    concavity (standard error):           0.0    0.396\\n    concave points (standard error):      0.0    0.053\\n    symmetry (standard error):            0.008  0.079\\n    fractal dimension (standard error):   0.001  0.03\\n    radius (worst):                       7.93   36.04\\n    texture (worst):                      12.02  49.54\\n    perimeter (worst):                    50.41  251.2\\n    area (worst):                         185.2  4254.0\\n    smoothness (worst):                   0.071  0.223\\n    compactness (worst):                  0.027  1.058\\n    concavity (worst):                    0.0    1.252\\n    concave points (worst):               0.0    0.291\\n    symmetry (worst):                     0.156  0.664\\n    fractal dimension (worst):            0.055  0.208\\n    ===================================== ====== ======\\n\\n    :Missing Attribute Values: None\\n\\n    :Class Distribution: 212 - Malignant, 357 - Benign\\n\\n    :Creator:  Dr. William H. Wolberg, W. Nick Street, Olvi L. Mangasarian\\n\\n    :Donor: Nick Street\\n\\n    :Date: November, 1995\\n\\nThis is a copy of UCI ML Breast Cancer Wisconsin (Diagnostic) datasets.\\nhttps://goo.gl/U2Uwz2\\n\\nFeatures are computed from a digitized image of a fine needle\\naspirate (FNA) of a breast mass.  They describe\\ncharacteristics of the cell nuclei present in the image.\\n\\nSeparating plane described above was obtained using\\nMultisurface Method-Tree (MSM-T) [K. P. Bennett, \"Decision Tree\\nConstruction Via Linear Programming.\" Proceedings of the 4th\\nMidwest Artificial Intelligence and Cognitive Science Society,\\npp. 97-101, 1992], a classification method which uses linear\\nprogramming to construct a decision tree.  Relevant features\\nwere selected using an exhaustive search in the space of 1-4\\nfeatures and 1-3 separating planes.\\n\\nThe actual linear program used to obtain the separating plane\\nin the 3-dimensional space is that described in:\\n[K. P. Bennett and O. L. Mangasarian: \"Robust Linear\\nProgramming Discrimination of Two Linearly Inseparable Sets\",\\nOptimization Methods and Software 1, 1992, 23-34].\\n\\nThis database is also available through the UW CS ftp server:\\n\\nftp ftp.cs.wisc.edu\\ncd math-prog/cpo-dataset/machine-learn/WDBC/\\n\\n.. topic:: References\\n\\n   - W.N. Street, W.H. Wolberg and O.L. Mangasarian. Nuclear feature extraction \\n     for breast tumor diagnosis. IS&T/SPIE 1993 International Symposium on \\n     Electronic Imaging: Science and Technology, volume 1905, pages 861-870,\\n     San Jose, CA, 1993.\\n   - O.L. Mangasarian, W.N. Street and W.H. Wolberg. Breast cancer diagnosis and \\n     prognosis via linear programming. Operations Research, 43(4), pages 570-577, \\n     July-August 1995.\\n   - W.H. Wolberg, W.N. Street, and O.L. Mangasarian. Machine learning techniques\\n     to diagnose breast cancer from fine-needle aspirates. Cancer Letters 77 (1994) \\n     163-171.'"
            ]
          },
          "metadata": {
            "tags": []
          },
          "execution_count": 6
        }
      ]
    },
    {
      "cell_type": "code",
      "metadata": {
        "id": "y61uBmD7Iqac"
      },
      "source": [
        "data = breast_cancer.data\r\n",
        "target = breast_cancer.target\r\n",
        "x_train, x_test, y_train, y_test = train_test_split(data, target, test_size = 0.2)"
      ],
      "execution_count": 7,
      "outputs": []
    },
    {
      "cell_type": "code",
      "metadata": {
        "colab": {
          "base_uri": "https://localhost:8080/",
          "height": 320
        },
        "id": "L1dup5jIGuXt",
        "outputId": "578d55fb-d8be-474e-bf49-270fd464da8d"
      },
      "source": [
        "# data before preprocessing\r\n",
        "\r\n",
        "data_features_means = [x_train[:, i].mean() for i in range(x_train.shape[1])]\r\n",
        "data_features_std = [x_train[:, i].std() for i in range(x_train.shape[1])]\r\n",
        "\r\n",
        "plt.subplots(figsize = (10,5))\r\n",
        "plt.plot(data_features_means, label = 'means')\r\n",
        "plt.plot(data_features_std, label = 'standard derivs')\r\n",
        "plt.legend()\r\n",
        "plt.grid()"
      ],
      "execution_count": 8,
      "outputs": [
        {
          "output_type": "display_data",
          "data": {
            "image/png": "[encoded data removed]",
            "text/plain": [
              "<Figure size 720x360 with 1 Axes>"
            ]
          },
          "metadata": {
            "tags": [],
            "needs_background": "dark"
          }
        }
      ]
    },
    {
      "cell_type": "code",
      "metadata": {
        "colab": {
          "base_uri": "https://localhost:8080/",
          "height": 320
        },
        "id": "koBgR4t5IDDF",
        "outputId": "62c4286c-c259-4742-d5d7-5583085691ce"
      },
      "source": [
        "# data after processing\r\n",
        "\r\n",
        "#scaler = RobustScaler(quantile_range=(25, 75))\r\n",
        "scaler = StandardScaler()\r\n",
        "x_train = scaler.fit_transform(x_train)\r\n",
        "x_test = scaler.fit_transform(x_test)\r\n",
        "\r\n",
        "data_features_means = [x_train[:, i].mean() for i in range(x_train.shape[1])]\r\n",
        "data_features_std = [x_train[:, i].std() for i in range(x_train.shape[1])]\r\n",
        "\r\n",
        "plt.subplots(figsize = (10,5))\r\n",
        "plt.plot(data_features_means, label = 'means')\r\n",
        "plt.plot(data_features_std, label = 'standard derivs')\r\n",
        "plt.legend()\r\n",
        "plt.grid()"
      ],
      "execution_count": 9,
      "outputs": [
        {
          "output_type": "display_data",
          "data": {
            "image/png": "[encoded data removed]",
            "text/plain": [
              "<Figure size 720x360 with 1 Axes>"
            ]
          },
          "metadata": {
            "tags": [],
            "needs_background": "dark"
          }
        }
      ]
    },
    {
      "cell_type": "code",
      "metadata": {
        "colab": {
          "base_uri": "https://localhost:8080/",
          "height": 320
        },
        "id": "wrYI_VntN2hz",
        "outputId": "a7b0968b-a002-47f3-9383-82ed0bad1fc2"
      },
      "source": [
        "# K-means clustering form many possible scenarios\r\n",
        "cluster_numbers = range(1, 16)\r\n",
        "k_means_classificators = [KMeans(n_clusters = i, max_iter = 100).fit(x_test) for i in cluster_numbers]\r\n",
        "k_means_scores = [k_means_classificators[i].score(x_test) for i in range(len(k_means_classificators))]\r\n",
        "\r\n",
        "plt.subplots(figsize = (10,5))\r\n",
        "plt.plot(k_means_scores, label = 'k means score')\r\n",
        "plt.xticks(cluster_numbers)\r\n",
        "plt.legend()\r\n",
        "plt.grid()"
      ],
      "execution_count": 10,
      "outputs": [
        {
          "output_type": "display_data",
          "data": {
            "image/png": "[encoded data removed]",
            "text/plain": [
              "<Figure size 720x360 with 1 Axes>"
            ]
          },
          "metadata": {
            "tags": [],
            "needs_background": "dark"
          }
        }
      ]
    },
    {
      "cell_type": "code",
      "metadata": {
        "colab": {
          "base_uri": "https://localhost:8080/"
        },
        "id": "S5L_e6K_SN4g",
        "outputId": "cee58744-7548-428d-fef6-4ba84559033a"
      },
      "source": [
        "# 2-clusterring ('malignant', 'benign')\r\n",
        "\r\n",
        "k_means_binary = k_means_classificators[1]\r\n",
        "k_means_binary.inertia_\r\n",
        "k_means_binary.score(x_test)"
      ],
      "execution_count": 11,
      "outputs": [
        {
          "output_type": "execute_result",
          "data": {
            "text/plain": [
              "-2316.2868628067768"
            ]
          },
          "metadata": {
            "tags": []
          },
          "execution_count": 11
        }
      ]
    },
    {
      "cell_type": "code",
      "metadata": {
        "colab": {
          "base_uri": "https://localhost:8080/"
        },
        "id": "02oJvxUYVbJV",
        "outputId": "e0dabdbb-89d2-4610-f7f7-283526e4decc"
      },
      "source": [
        "k_means_prediction = k_means_binary.predict(x_test)\r\n",
        "k_means_prediction"
      ],
      "execution_count": 12,
      "outputs": [
        {
          "output_type": "execute_result",
          "data": {
            "text/plain": [
              "array([1, 1, 0, 1, 0, 0, 0, 1, 1, 0, 0, 0, 1, 1, 1, 0, 0, 0, 1, 0, 0, 1,\n",
              "       0, 1, 1, 1, 0, 1, 0, 0, 0, 0, 0, 1, 1, 0, 0, 1, 0, 0, 0, 0, 0, 0,\n",
              "       0, 0, 0, 1, 0, 1, 1, 0, 1, 1, 0, 1, 1, 0, 1, 0, 0, 1, 1, 1, 1, 1,\n",
              "       1, 1, 0, 0, 0, 0, 1, 0, 0, 0, 0, 0, 1, 0, 0, 0, 0, 0, 1, 1, 1, 0,\n",
              "       1, 1, 0, 1, 1, 0, 0, 0, 0, 1, 0, 0, 0, 0, 0, 0, 0, 0, 0, 0, 1, 0,\n",
              "       1, 0, 0, 0], dtype=int32)"
            ]
          },
          "metadata": {
            "tags": []
          },
          "execution_count": 12
        }
      ]
    },
    {
      "cell_type": "code",
      "metadata": {
        "id": "l8Z4Zylbi5_v"
      },
      "source": [
        "#k_means_fitting = k_means_binary.predict(x_train)\r\n",
        "#misclassified_idx = np.where(k_means_fitting == y_train)[0]\r\n",
        "#k_means_accuracy = len(misclassified_idx)/ float(len(y_train))\r\n",
        "#print(\"k-means validation accuracy for k=2 equals: \" + str(np.round(k_means_accuracy * 100, 2)) + \"%\")"
      ],
      "execution_count": 13,
      "outputs": []
    },
    {
      "cell_type": "markdown",
      "metadata": {
        "id": "nJHi23EUWRVP"
      },
      "source": [
        ""
      ]
    },
    {
      "cell_type": "code",
      "metadata": {
        "colab": {
          "base_uri": "https://localhost:8080/"
        },
        "id": "3wxaRwo1V_Md",
        "outputId": "74a71613-3fd9-42d4-99fd-2f3b36bad4a2"
      },
      "source": [
        "# K- means clustering for k = 2 ( only that makes sense since we want binary classification)\r\n",
        "misclassified_idx = np.where(k_means_prediction == y_test)[0]\r\n",
        "k_means_accuracy = len(misclassified_idx)/ float(len(y_test))\r\n",
        "k_means_accuracy = max( k_means_accuracy, 1-k_means_accuracy) # we only cluster, so for example all 1s may be classified as 0s. It is irrelevant\r\n",
        "print(\"k-means validation accuracy for k=2 equals: \" + str(np.round(k_means_accuracy * 100, 2)) + \"%\")"
      ],
      "execution_count": 14,
      "outputs": [
        {
          "output_type": "stream",
          "text": [
            "k-means validation accuracy for k=2 equals: 86.84%\n"
          ],
          "name": "stdout"
        }
      ]
    },
    {
      "cell_type": "markdown",
      "metadata": {
        "id": "0S5r1wf9f4ZT"
      },
      "source": [
        "\r\n",
        "\r\n",
        "---\r\n",
        "\r\n",
        "\r\n",
        "K-means method for 2-categories clustering classifies into 2 groups properly  with accuracy around 85-92% (small dataset). \r\n",
        "Clustering method suggests around 5 significant categories. It could be the for example for the stage of the cancer (?). For RobustScaler which scales a bit differently the resuts, we get accuracy around 2%% higher on average (still may be variance). \r\n",
        "\r\n",
        "\r\n",
        "---\r\n",
        "\r\n"
      ]
    },
    {
      "cell_type": "code",
      "metadata": {
        "colab": {
          "base_uri": "https://localhost:8080/"
        },
        "id": "XC6sOOcihBg4",
        "outputId": "296f0f30-5a57-4f52-818b-7ab6c295a1eb"
      },
      "source": [
        "# linear regression classification\r\n",
        "N, D = x_train.shape\r\n",
        "model = tf.keras.models.Sequential()\r\n",
        "model.add(tf.keras.layers.Dense(1,input_shape = (D, ), activation = 'sigmoid'))\r\n",
        "model.compile(optimizer = 'adam', loss = 'binary_crossentropy', metrics = ['accuracy'])\r\n",
        "result = model.fit(x_train, y_train, validation_data = (x_test, y_test), epochs = 100)\r\n"
      ],
      "execution_count": 15,
      "outputs": [
        {
          "output_type": "stream",
          "text": [
            "Epoch 1/100\n",
            "15/15 [==============================] - 1s 36ms/step - loss: 0.4522 - accuracy: 0.8409 - val_loss: 0.4901 - val_accuracy: 0.7193\n",
            "Epoch 2/100\n",
            "15/15 [==============================] - 0s 4ms/step - loss: 0.4266 - accuracy: 0.8398 - val_loss: 0.4552 - val_accuracy: 0.7368\n",
            "Epoch 3/100\n",
            "15/15 [==============================] - 0s 4ms/step - loss: 0.3776 - accuracy: 0.8644 - val_loss: 0.4274 - val_accuracy: 0.7895\n",
            "Epoch 4/100\n",
            "15/15 [==============================] - 0s 4ms/step - loss: 0.3820 - accuracy: 0.8861 - val_loss: 0.4030 - val_accuracy: 0.8070\n",
            "Epoch 5/100\n",
            "15/15 [==============================] - 0s 4ms/step - loss: 0.3267 - accuracy: 0.8909 - val_loss: 0.3821 - val_accuracy: 0.8246\n",
            "Epoch 6/100\n",
            "15/15 [==============================] - 0s 4ms/step - loss: 0.3092 - accuracy: 0.8964 - val_loss: 0.3624 - val_accuracy: 0.8333\n",
            "Epoch 7/100\n",
            "15/15 [==============================] - 0s 4ms/step - loss: 0.3201 - accuracy: 0.8910 - val_loss: 0.3461 - val_accuracy: 0.8421\n",
            "Epoch 8/100\n",
            "15/15 [==============================] - 0s 4ms/step - loss: 0.2845 - accuracy: 0.9047 - val_loss: 0.3325 - val_accuracy: 0.8596\n",
            "Epoch 9/100\n",
            "15/15 [==============================] - 0s 13ms/step - loss: 0.2613 - accuracy: 0.9063 - val_loss: 0.3194 - val_accuracy: 0.8596\n",
            "Epoch 10/100\n",
            "15/15 [==============================] - 0s 4ms/step - loss: 0.2786 - accuracy: 0.8894 - val_loss: 0.3053 - val_accuracy: 0.8596\n",
            "Epoch 11/100\n",
            "15/15 [==============================] - 0s 4ms/step - loss: 0.2400 - accuracy: 0.9029 - val_loss: 0.2944 - val_accuracy: 0.8684\n",
            "Epoch 12/100\n",
            "15/15 [==============================] - 0s 4ms/step - loss: 0.2207 - accuracy: 0.9277 - val_loss: 0.2838 - val_accuracy: 0.8684\n",
            "Epoch 13/100\n",
            "15/15 [==============================] - 0s 4ms/step - loss: 0.2424 - accuracy: 0.9241 - val_loss: 0.2743 - val_accuracy: 0.8684\n",
            "Epoch 14/100\n",
            "15/15 [==============================] - 0s 4ms/step - loss: 0.2192 - accuracy: 0.9233 - val_loss: 0.2662 - val_accuracy: 0.8860\n",
            "Epoch 15/100\n",
            "15/15 [==============================] - 0s 4ms/step - loss: 0.2219 - accuracy: 0.9132 - val_loss: 0.2578 - val_accuracy: 0.8947\n",
            "Epoch 16/100\n",
            "15/15 [==============================] - 0s 5ms/step - loss: 0.1883 - accuracy: 0.9389 - val_loss: 0.2509 - val_accuracy: 0.9035\n",
            "Epoch 17/100\n",
            "15/15 [==============================] - 0s 4ms/step - loss: 0.1987 - accuracy: 0.9269 - val_loss: 0.2438 - val_accuracy: 0.9035\n",
            "Epoch 18/100\n",
            "15/15 [==============================] - 0s 4ms/step - loss: 0.1886 - accuracy: 0.9381 - val_loss: 0.2373 - val_accuracy: 0.9035\n",
            "Epoch 19/100\n",
            "15/15 [==============================] - 0s 4ms/step - loss: 0.1792 - accuracy: 0.9304 - val_loss: 0.2321 - val_accuracy: 0.9123\n",
            "Epoch 20/100\n",
            "15/15 [==============================] - 0s 4ms/step - loss: 0.1641 - accuracy: 0.9447 - val_loss: 0.2265 - val_accuracy: 0.9123\n",
            "Epoch 21/100\n",
            "15/15 [==============================] - 0s 4ms/step - loss: 0.1811 - accuracy: 0.9306 - val_loss: 0.2216 - val_accuracy: 0.9123\n",
            "Epoch 22/100\n",
            "15/15 [==============================] - 0s 5ms/step - loss: 0.1818 - accuracy: 0.9312 - val_loss: 0.2168 - val_accuracy: 0.9211\n",
            "Epoch 23/100\n",
            "15/15 [==============================] - 0s 5ms/step - loss: 0.1627 - accuracy: 0.9384 - val_loss: 0.2131 - val_accuracy: 0.9211\n",
            "Epoch 24/100\n",
            "15/15 [==============================] - 0s 4ms/step - loss: 0.1695 - accuracy: 0.9190 - val_loss: 0.2090 - val_accuracy: 0.9211\n",
            "Epoch 25/100\n",
            "15/15 [==============================] - 0s 4ms/step - loss: 0.1536 - accuracy: 0.9521 - val_loss: 0.2049 - val_accuracy: 0.9211\n",
            "Epoch 26/100\n",
            "15/15 [==============================] - 0s 4ms/step - loss: 0.1487 - accuracy: 0.9623 - val_loss: 0.2012 - val_accuracy: 0.9211\n",
            "Epoch 27/100\n",
            "15/15 [==============================] - 0s 4ms/step - loss: 0.1445 - accuracy: 0.9510 - val_loss: 0.1979 - val_accuracy: 0.9211\n",
            "Epoch 28/100\n",
            "15/15 [==============================] - 0s 4ms/step - loss: 0.1409 - accuracy: 0.9579 - val_loss: 0.1947 - val_accuracy: 0.9298\n",
            "Epoch 29/100\n",
            "15/15 [==============================] - 0s 4ms/step - loss: 0.1461 - accuracy: 0.9593 - val_loss: 0.1919 - val_accuracy: 0.9298\n",
            "Epoch 30/100\n",
            "15/15 [==============================] - 0s 5ms/step - loss: 0.1546 - accuracy: 0.9540 - val_loss: 0.1885 - val_accuracy: 0.9298\n",
            "Epoch 31/100\n",
            "15/15 [==============================] - 0s 5ms/step - loss: 0.1312 - accuracy: 0.9681 - val_loss: 0.1860 - val_accuracy: 0.9298\n",
            "Epoch 32/100\n",
            "15/15 [==============================] - 0s 5ms/step - loss: 0.1252 - accuracy: 0.9685 - val_loss: 0.1840 - val_accuracy: 0.9298\n",
            "Epoch 33/100\n",
            "15/15 [==============================] - 0s 5ms/step - loss: 0.1243 - accuracy: 0.9652 - val_loss: 0.1812 - val_accuracy: 0.9386\n",
            "Epoch 34/100\n",
            "15/15 [==============================] - 0s 4ms/step - loss: 0.1268 - accuracy: 0.9657 - val_loss: 0.1787 - val_accuracy: 0.9386\n",
            "Epoch 35/100\n",
            "15/15 [==============================] - 0s 4ms/step - loss: 0.1378 - accuracy: 0.9502 - val_loss: 0.1765 - val_accuracy: 0.9386\n",
            "Epoch 36/100\n",
            "15/15 [==============================] - 0s 4ms/step - loss: 0.1168 - accuracy: 0.9700 - val_loss: 0.1746 - val_accuracy: 0.9386\n",
            "Epoch 37/100\n",
            "15/15 [==============================] - 0s 4ms/step - loss: 0.1233 - accuracy: 0.9631 - val_loss: 0.1733 - val_accuracy: 0.9386\n",
            "Epoch 38/100\n",
            "15/15 [==============================] - 0s 4ms/step - loss: 0.1132 - accuracy: 0.9651 - val_loss: 0.1718 - val_accuracy: 0.9474\n",
            "Epoch 39/100\n",
            "15/15 [==============================] - 0s 4ms/step - loss: 0.1071 - accuracy: 0.9662 - val_loss: 0.1702 - val_accuracy: 0.9474\n",
            "Epoch 40/100\n",
            "15/15 [==============================] - 0s 5ms/step - loss: 0.1075 - accuracy: 0.9690 - val_loss: 0.1692 - val_accuracy: 0.9474\n",
            "Epoch 41/100\n",
            "15/15 [==============================] - 0s 4ms/step - loss: 0.1066 - accuracy: 0.9772 - val_loss: 0.1680 - val_accuracy: 0.9474\n",
            "Epoch 42/100\n",
            "15/15 [==============================] - 0s 4ms/step - loss: 0.1095 - accuracy: 0.9652 - val_loss: 0.1665 - val_accuracy: 0.9474\n",
            "Epoch 43/100\n",
            "15/15 [==============================] - 0s 4ms/step - loss: 0.1319 - accuracy: 0.9570 - val_loss: 0.1651 - val_accuracy: 0.9474\n",
            "Epoch 44/100\n",
            "15/15 [==============================] - 0s 4ms/step - loss: 0.1292 - accuracy: 0.9628 - val_loss: 0.1639 - val_accuracy: 0.9561\n",
            "Epoch 45/100\n",
            "15/15 [==============================] - 0s 4ms/step - loss: 0.1021 - accuracy: 0.9710 - val_loss: 0.1628 - val_accuracy: 0.9561\n",
            "Epoch 46/100\n",
            "15/15 [==============================] - 0s 4ms/step - loss: 0.1108 - accuracy: 0.9594 - val_loss: 0.1617 - val_accuracy: 0.9561\n",
            "Epoch 47/100\n",
            "15/15 [==============================] - 0s 5ms/step - loss: 0.1120 - accuracy: 0.9666 - val_loss: 0.1609 - val_accuracy: 0.9561\n",
            "Epoch 48/100\n",
            "15/15 [==============================] - 0s 5ms/step - loss: 0.1036 - accuracy: 0.9668 - val_loss: 0.1597 - val_accuracy: 0.9561\n",
            "Epoch 49/100\n",
            "15/15 [==============================] - 0s 4ms/step - loss: 0.1014 - accuracy: 0.9794 - val_loss: 0.1585 - val_accuracy: 0.9561\n",
            "Epoch 50/100\n",
            "15/15 [==============================] - 0s 4ms/step - loss: 0.0973 - accuracy: 0.9732 - val_loss: 0.1578 - val_accuracy: 0.9561\n",
            "Epoch 51/100\n",
            "15/15 [==============================] - 0s 5ms/step - loss: 0.0867 - accuracy: 0.9729 - val_loss: 0.1568 - val_accuracy: 0.9561\n",
            "Epoch 52/100\n",
            "15/15 [==============================] - 0s 4ms/step - loss: 0.0842 - accuracy: 0.9811 - val_loss: 0.1561 - val_accuracy: 0.9561\n",
            "Epoch 53/100\n",
            "15/15 [==============================] - 0s 5ms/step - loss: 0.1032 - accuracy: 0.9682 - val_loss: 0.1549 - val_accuracy: 0.9561\n",
            "Epoch 54/100\n",
            "15/15 [==============================] - 0s 4ms/step - loss: 0.0922 - accuracy: 0.9768 - val_loss: 0.1543 - val_accuracy: 0.9561\n",
            "Epoch 55/100\n",
            "15/15 [==============================] - 0s 4ms/step - loss: 0.0993 - accuracy: 0.9672 - val_loss: 0.1539 - val_accuracy: 0.9561\n",
            "Epoch 56/100\n",
            "15/15 [==============================] - 0s 4ms/step - loss: 0.0979 - accuracy: 0.9727 - val_loss: 0.1535 - val_accuracy: 0.9561\n",
            "Epoch 57/100\n",
            "15/15 [==============================] - 0s 4ms/step - loss: 0.0927 - accuracy: 0.9798 - val_loss: 0.1530 - val_accuracy: 0.9561\n",
            "Epoch 58/100\n",
            "15/15 [==============================] - 0s 4ms/step - loss: 0.0885 - accuracy: 0.9830 - val_loss: 0.1527 - val_accuracy: 0.9561\n",
            "Epoch 59/100\n",
            "15/15 [==============================] - 0s 4ms/step - loss: 0.0870 - accuracy: 0.9759 - val_loss: 0.1523 - val_accuracy: 0.9561\n",
            "Epoch 60/100\n",
            "15/15 [==============================] - 0s 4ms/step - loss: 0.1031 - accuracy: 0.9722 - val_loss: 0.1518 - val_accuracy: 0.9561\n",
            "Epoch 61/100\n",
            "15/15 [==============================] - 0s 5ms/step - loss: 0.0952 - accuracy: 0.9699 - val_loss: 0.1513 - val_accuracy: 0.9561\n",
            "Epoch 62/100\n",
            "15/15 [==============================] - 0s 4ms/step - loss: 0.0764 - accuracy: 0.9879 - val_loss: 0.1509 - val_accuracy: 0.9561\n",
            "Epoch 63/100\n",
            "15/15 [==============================] - 0s 12ms/step - loss: 0.0923 - accuracy: 0.9807 - val_loss: 0.1496 - val_accuracy: 0.9561\n",
            "Epoch 64/100\n",
            "15/15 [==============================] - 0s 5ms/step - loss: 0.0739 - accuracy: 0.9829 - val_loss: 0.1493 - val_accuracy: 0.9561\n",
            "Epoch 65/100\n",
            "15/15 [==============================] - 0s 4ms/step - loss: 0.0864 - accuracy: 0.9791 - val_loss: 0.1488 - val_accuracy: 0.9561\n",
            "Epoch 66/100\n",
            "15/15 [==============================] - 0s 4ms/step - loss: 0.0772 - accuracy: 0.9909 - val_loss: 0.1485 - val_accuracy: 0.9561\n",
            "Epoch 67/100\n",
            "15/15 [==============================] - 0s 5ms/step - loss: 0.0944 - accuracy: 0.9771 - val_loss: 0.1483 - val_accuracy: 0.9561\n",
            "Epoch 68/100\n",
            "15/15 [==============================] - 0s 4ms/step - loss: 0.0920 - accuracy: 0.9754 - val_loss: 0.1481 - val_accuracy: 0.9561\n",
            "Epoch 69/100\n",
            "15/15 [==============================] - 0s 4ms/step - loss: 0.0814 - accuracy: 0.9874 - val_loss: 0.1478 - val_accuracy: 0.9561\n",
            "Epoch 70/100\n",
            "15/15 [==============================] - 0s 5ms/step - loss: 0.0928 - accuracy: 0.9816 - val_loss: 0.1473 - val_accuracy: 0.9561\n",
            "Epoch 71/100\n",
            "15/15 [==============================] - 0s 4ms/step - loss: 0.0870 - accuracy: 0.9740 - val_loss: 0.1470 - val_accuracy: 0.9649\n",
            "Epoch 72/100\n",
            "15/15 [==============================] - 0s 4ms/step - loss: 0.0881 - accuracy: 0.9779 - val_loss: 0.1468 - val_accuracy: 0.9649\n",
            "Epoch 73/100\n",
            "15/15 [==============================] - 0s 4ms/step - loss: 0.0971 - accuracy: 0.9786 - val_loss: 0.1463 - val_accuracy: 0.9649\n",
            "Epoch 74/100\n",
            "15/15 [==============================] - 0s 5ms/step - loss: 0.0846 - accuracy: 0.9811 - val_loss: 0.1463 - val_accuracy: 0.9649\n",
            "Epoch 75/100\n",
            "15/15 [==============================] - 0s 6ms/step - loss: 0.0843 - accuracy: 0.9856 - val_loss: 0.1460 - val_accuracy: 0.9649\n",
            "Epoch 76/100\n",
            "15/15 [==============================] - 0s 4ms/step - loss: 0.0727 - accuracy: 0.9859 - val_loss: 0.1459 - val_accuracy: 0.9649\n",
            "Epoch 77/100\n",
            "15/15 [==============================] - 0s 5ms/step - loss: 0.0785 - accuracy: 0.9847 - val_loss: 0.1454 - val_accuracy: 0.9649\n",
            "Epoch 78/100\n",
            "15/15 [==============================] - 0s 4ms/step - loss: 0.0804 - accuracy: 0.9862 - val_loss: 0.1452 - val_accuracy: 0.9649\n",
            "Epoch 79/100\n",
            "15/15 [==============================] - 0s 4ms/step - loss: 0.0828 - accuracy: 0.9818 - val_loss: 0.1449 - val_accuracy: 0.9649\n",
            "Epoch 80/100\n",
            "15/15 [==============================] - 0s 4ms/step - loss: 0.0774 - accuracy: 0.9862 - val_loss: 0.1448 - val_accuracy: 0.9649\n",
            "Epoch 81/100\n",
            "15/15 [==============================] - 0s 5ms/step - loss: 0.0758 - accuracy: 0.9828 - val_loss: 0.1445 - val_accuracy: 0.9649\n",
            "Epoch 82/100\n",
            "15/15 [==============================] - 0s 4ms/step - loss: 0.0655 - accuracy: 0.9859 - val_loss: 0.1442 - val_accuracy: 0.9649\n",
            "Epoch 83/100\n",
            "15/15 [==============================] - 0s 4ms/step - loss: 0.0758 - accuracy: 0.9872 - val_loss: 0.1435 - val_accuracy: 0.9649\n",
            "Epoch 84/100\n",
            "15/15 [==============================] - 0s 5ms/step - loss: 0.0861 - accuracy: 0.9836 - val_loss: 0.1433 - val_accuracy: 0.9649\n",
            "Epoch 85/100\n",
            "15/15 [==============================] - 0s 4ms/step - loss: 0.0792 - accuracy: 0.9812 - val_loss: 0.1427 - val_accuracy: 0.9649\n",
            "Epoch 86/100\n",
            "15/15 [==============================] - 0s 4ms/step - loss: 0.0853 - accuracy: 0.9779 - val_loss: 0.1429 - val_accuracy: 0.9649\n",
            "Epoch 87/100\n",
            "15/15 [==============================] - 0s 4ms/step - loss: 0.0765 - accuracy: 0.9809 - val_loss: 0.1428 - val_accuracy: 0.9649\n",
            "Epoch 88/100\n",
            "15/15 [==============================] - 0s 4ms/step - loss: 0.0780 - accuracy: 0.9792 - val_loss: 0.1430 - val_accuracy: 0.9649\n",
            "Epoch 89/100\n",
            "15/15 [==============================] - 0s 5ms/step - loss: 0.0699 - accuracy: 0.9866 - val_loss: 0.1428 - val_accuracy: 0.9649\n",
            "Epoch 90/100\n",
            "15/15 [==============================] - 0s 4ms/step - loss: 0.0710 - accuracy: 0.9800 - val_loss: 0.1428 - val_accuracy: 0.9649\n",
            "Epoch 91/100\n",
            "15/15 [==============================] - 0s 4ms/step - loss: 0.0652 - accuracy: 0.9917 - val_loss: 0.1424 - val_accuracy: 0.9649\n",
            "Epoch 92/100\n",
            "15/15 [==============================] - 0s 4ms/step - loss: 0.0719 - accuracy: 0.9914 - val_loss: 0.1422 - val_accuracy: 0.9649\n",
            "Epoch 93/100\n",
            "15/15 [==============================] - 0s 4ms/step - loss: 0.0691 - accuracy: 0.9862 - val_loss: 0.1421 - val_accuracy: 0.9649\n",
            "Epoch 94/100\n",
            "15/15 [==============================] - 0s 4ms/step - loss: 0.0872 - accuracy: 0.9779 - val_loss: 0.1418 - val_accuracy: 0.9649\n",
            "Epoch 95/100\n",
            "15/15 [==============================] - 0s 4ms/step - loss: 0.0739 - accuracy: 0.9863 - val_loss: 0.1416 - val_accuracy: 0.9649\n",
            "Epoch 96/100\n",
            "15/15 [==============================] - 0s 4ms/step - loss: 0.0700 - accuracy: 0.9880 - val_loss: 0.1419 - val_accuracy: 0.9649\n",
            "Epoch 97/100\n",
            "15/15 [==============================] - 0s 4ms/step - loss: 0.0790 - accuracy: 0.9752 - val_loss: 0.1418 - val_accuracy: 0.9649\n",
            "Epoch 98/100\n",
            "15/15 [==============================] - 0s 4ms/step - loss: 0.0832 - accuracy: 0.9775 - val_loss: 0.1419 - val_accuracy: 0.9649\n",
            "Epoch 99/100\n",
            "15/15 [==============================] - 0s 4ms/step - loss: 0.0618 - accuracy: 0.9844 - val_loss: 0.1419 - val_accuracy: 0.9649\n",
            "Epoch 100/100\n",
            "15/15 [==============================] - 0s 5ms/step - loss: 0.0715 - accuracy: 0.9747 - val_loss: 0.1419 - val_accuracy: 0.9649\n"
          ],
          "name": "stdout"
        }
      ]
    },
    {
      "cell_type": "code",
      "metadata": {
        "colab": {
          "base_uri": "https://localhost:8080/",
          "height": 338
        },
        "id": "d9PVF5RqgdaL",
        "outputId": "8ac8cbeb-978d-4d1c-cd9e-89c093e7df32"
      },
      "source": [
        "plt.subplots(figsize = (10,5))\r\n",
        "plt.plot(result.history['loss'], label = 'loss')\r\n",
        "plt.plot(result.history['val_loss'], label = 'val_loss')\r\n",
        "plt.grid()\r\n",
        "plt.legend()"
      ],
      "execution_count": 16,
      "outputs": [
        {
          "output_type": "execute_result",
          "data": {
            "text/plain": [
              "<matplotlib.legend.Legend at 0x7faafbcf96d8>"
            ]
          },
          "metadata": {
            "tags": []
          },
          "execution_count": 16
        },
        {
          "output_type": "display_data",
          "data": {
            "image/png": "[encoded data removed]",
            "text/plain": [
              "<Figure size 720x360 with 1 Axes>"
            ]
          },
          "metadata": {
            "tags": [],
            "needs_background": "dark"
          }
        }
      ]
    },
    {
      "cell_type": "code",
      "metadata": {
        "id": "5bOIoaclitaW",
        "colab": {
          "base_uri": "https://localhost:8080/",
          "height": 338
        },
        "outputId": "8d0d0eff-2412-40b1-ff5e-0dfeace018b7"
      },
      "source": [
        "plt.subplots(figsize = (10,5))\r\n",
        "plt.plot(result.history['accuracy'], label = 'accuracy')\r\n",
        "plt.plot(result.history['val_accuracy'], label = 'val_accuracy')\r\n",
        "plt.grid()\r\n",
        "plt.legend()"
      ],
      "execution_count": 17,
      "outputs": [
        {
          "output_type": "execute_result",
          "data": {
            "text/plain": [
              "<matplotlib.legend.Legend at 0x7faafb7ffb70>"
            ]
          },
          "metadata": {
            "tags": []
          },
          "execution_count": 17
        },
        {
          "output_type": "display_data",
          "data": {
            "image/png": "[encoded data removed]",
            "text/plain": [
              "<Figure size 720x360 with 1 Axes>"
            ]
          },
          "metadata": {
            "tags": [],
            "needs_background": "dark"
          }
        }
      ]
    },
    {
      "cell_type": "code",
      "metadata": {
        "colab": {
          "base_uri": "https://localhost:8080/"
        },
        "id": "98MkB2IZheHL",
        "outputId": "bb07b641-d257-4a37-ee96-afac108c8b28"
      },
      "source": [
        "# compare methods\r\n",
        "val_acc_k2 = np.round(k_means_accuracy, 2) \r\n",
        "val_acc_nn = np.round(result.history['val_accuracy'][-1], 2)\r\n",
        "\r\n",
        "print('accuracy with k-means clustering for k=2: ' + str(val_acc_k2 * 100) + '%')\r\n",
        "print('accuracy with linear regression on test set: ' + str(val_acc_nn * 100) + '%')"
      ],
      "execution_count": 18,
      "outputs": [
        {
          "output_type": "stream",
          "text": [
            "accuracy with k-means clustering for k=2: 87.0%\n",
            "accuracy with linear regression on test set: 96.0%\n"
          ],
          "name": "stdout"
        }
      ]
    },
    {
      "cell_type": "markdown",
      "metadata": {
        "id": "Ty5Y5AfTlCTH"
      },
      "source": [
        "\r\n",
        "\r\n",
        "---\r\n",
        "\r\n",
        "\r\n",
        "In the code above two methods of maschine learning were used:  k-means and linear regression. Although k-menas seem to be much simpler, and thus, more limited than neural networks, it performances qute well. Results are a bit biased due to relatively small data sed, and the nature of the data itself. \r\n",
        "\r\n",
        "\r\n",
        "---\r\n",
        "\r\n"
      ]
    },
    {
      "cell_type": "code",
      "metadata": {
        "colab": {
          "base_uri": "https://localhost:8080/",
          "height": 338
        },
        "id": "5oniqs0Yl_cQ",
        "outputId": "2f3de3f1-87ea-47d3-b7b2-fa2f56a356b7"
      },
      "source": [
        "lin_reg_params = model.get_weights()\r\n",
        "print('linear regression bias: ' + str(lin_reg_params[1]))\r\n",
        "sorted_weights = np.sort(np.abs(lin_reg_params[0]), axis = None)\r\n",
        "plt.subplots(figsize = (10,5))\r\n",
        "plt.plot(sorted_weights, label = 'absolute value of weights (importance)')\r\n",
        "plt.legend()\r\n",
        "plt.grid()"
      ],
      "execution_count": 20,
      "outputs": [
        {
          "output_type": "stream",
          "text": [
            "linear regression bias: [0.5543427]\n"
          ],
          "name": "stdout"
        },
        {
          "output_type": "display_data",
          "data": {
            "image/png": "[encoded data removed]",
            "text/plain": [
              "<Figure size 720x360 with 1 Axes>"
            ]
          },
          "metadata": {
            "tags": [],
            "needs_background": "dark"
          }
        }
      ]
    },
    {
      "cell_type": "markdown",
      "metadata": {
        "id": "kTlAx7XQU7sF"
      },
      "source": [
        "Plot of absolute values of weights in linear regression plays a role of importance quantifiers. As we can se there is quite significant variance in importnace measure for all raw input data, suggesting that some of them could be ommited.\r\n"
      ]
    }
  ]
}